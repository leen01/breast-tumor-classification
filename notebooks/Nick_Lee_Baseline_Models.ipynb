{
  "cells": [
    {
      "attachments": {},
      "cell_type": "markdown",
      "metadata": {
        "id": "R6oU8VyzdSsd"
      },
      "source": [
        "# ***Computer Vision Final Project: Breast Cancer Tumor Classification***\n",
        "## Section 1 Spring 2023\n",
        "### Nicholas Lee, Nic Brathwaite, Amir Moayed"
      ]
    },
    {
      "cell_type": "markdown",
      "metadata": {
        "colab_type": "text",
        "id": "view-in-github"
      },
      "source": [
        "<a href=\"https://colab.research.google.com/github/NickBrath/Computer-Vision-281-Final-Project/blob/main/Nick_Lee_Baseline_Models.ipynb\" target=\"_parent\"><img src=\"https://colab.research.google.com/assets/colab-badge.svg\" alt=\"Open In Colab\"/></a>"
      ]
    },
    {
      "cell_type": "markdown",
      "metadata": {
        "id": "xR8Hc9lcdeey"
      },
      "source": [
        "Possible features of benign tumors to look for in images: \n",
        "histologically benign [1]\n",
        "\t(adjective) Referring to a lesion that does not meet any criteria of malignancy – e.g., marked cellular atypia, mitosis, disruption of basement membranes, metastasize."
      ]
    },
    {
      "cell_type": "markdown",
      "metadata": {
        "id": "duz3cB0LBAoH"
      },
      "source": [
        "Consuming TFRecord data\n",
        "Refer to the Loading TFRecords tutorial for an end-to-end example.\n",
        "\n",
        "The tf.data API supports a variety of file formats so that you can process large datasets that do not fit in memory. For example, the TFRecord file format is a simple record-oriented binary format that many TensorFlow applications use for training data. The tf.data.TFRecordDataset class enables you to stream over the contents of one or more TFRecord files as part of an input pipeline."
      ]
    },
    {
      "attachments": {},
      "cell_type": "markdown",
      "metadata": {
        "id": "G-NFMvVXdmB1"
      },
      "source": [
        "# Setup"
      ]
    },
    {
      "cell_type": "code",
      "execution_count": 3,
      "metadata": {},
      "outputs": [],
      "source": [
        "# Google packages\n",
        "# from google.colab import drive\n",
        "# from google.colab import files\n",
        "# from google.colab.patches import cv2_imshow\n",
        "\n",
        "# Mount google drive\n",
        "# drive.mount('/content/drive')"
      ]
    },
    {
      "cell_type": "code",
      "execution_count": 4,
      "metadata": {
        "id": "TuVaK97zc-V0"
      },
      "outputs": [],
      "source": [
        "# base packages\n",
        "import os\n",
        "import warnings\n",
        "import random\n",
        "from datetime import date\n",
        "import re\n",
        "from tqdm.notebook import tqdm  # progress bar library\n",
        "import glob\n",
        "\n",
        "# DS packages\n",
        "import pandas as pd\n",
        "import numpy as np\n",
        "import matplotlib.pyplot as plt\n",
        "import matplotlib.image as mpimg\n",
        "import seaborn as sns\n",
        "\n",
        "# image packages\n",
        "import PIL\n",
        "import urllib\n",
        "import cv2\n",
        "from skimage.color import rgb2gray\n",
        "import skimage.io as skio\n",
        "\n",
        "# ML packages\n",
        "import scipy as sc\n",
        "import sklearn as sk\n",
        "import tensorflow as tf\n",
        "\n",
        "%matplotlib inline\n"
      ]
    },
    {
      "cell_type": "code",
      "execution_count": 5,
      "metadata": {},
      "outputs": [
        {
          "data": {
            "text/plain": [
              "'success'"
            ]
          },
          "execution_count": 5,
          "metadata": {},
          "output_type": "execute_result"
        }
      ],
      "source": [
        "# import tomopy\n",
        "import mkl\n",
        "# Intel(R) MKL FFT functions to run sequentially\n",
        "mkl.domain_set_num_threads(1, domain='fft')\n"
      ]
    },
    {
      "cell_type": "code",
      "execution_count": 6,
      "metadata": {
        "id": "nNAYNGZqK94K"
      },
      "outputs": [],
      "source": [
        "pd.options.display.max_columns = 50\n",
        "warnings.filterwarnings(\"ignore\")"
      ]
    },
    {
      "cell_type": "code",
      "execution_count": 7,
      "metadata": {},
      "outputs": [],
      "source": [
        "# print(\"Num GPUs Available: \", len(tf.config.list_physical_devices('GPU')))\n",
        "# tf.config.list_physical_devices('GPU')"
      ]
    },
    {
      "attachments": {},
      "cell_type": "markdown",
      "metadata": {
        "id": "y5USqlR3pJ7B"
      },
      "source": [
        "## Functions"
      ]
    },
    {
      "cell_type": "code",
      "execution_count": 8,
      "metadata": {
        "id": "UBGwk61tpMo2"
      },
      "outputs": [],
      "source": [
        "# pickle object for later\n",
        "import pickle\n",
        "\n",
        "def pickler(ob, pklFileName):\n",
        "    \"\"\" \n",
        "      Create pickle object to load later or in different environments for use later\n",
        "\n",
        "      ob: object, python object intended to pickle\n",
        "      pklFileName: string, name of the pickle file e.g. \"User/content/drive/209/ThisDataFrame.pkl\"\n",
        "    \"\"\"\n",
        "\n",
        "    with open(pklFileName, \"wb+\") as f:\n",
        "        pickle.dump(ob, f)\n",
        "\n",
        "\n",
        "def load_pickles(pklFilePath):\n",
        "    \"\"\"\n",
        "      path: string, path to object\n",
        "      pklFileName: string, pickle file name with extension .pkl\n",
        "    \"\"\"\n",
        "\n",
        "    return pd.read_pickle(pklFilePath)\n"
      ]
    },
    {
      "cell_type": "code",
      "execution_count": null,
      "metadata": {},
      "outputs": [],
      "source": [
        "import time\n",
        "\n",
        "def timeis(func):\n",
        "    \"\"\"Decorator that reports the execution time.\"\"\"\n",
        "\n",
        "    def wrap(*args, **kwargs):\n",
        "        start = time.time()\n",
        "        result = func(*args, **kwargs)\n",
        "        end = time.time()\n",
        "\n",
        "        print(func.__name__, end-start)\n",
        "        return result\n",
        "    return wrap"
      ]
    },
    {
      "attachments": {},
      "cell_type": "markdown",
      "metadata": {
        "id": "WhkTwaKefVQc"
      },
      "source": [
        "## File Paths"
      ]
    },
    {
      "cell_type": "code",
      "execution_count": 15,
      "metadata": {
        "colab": {
          "base_uri": "https://localhost:8080/"
        },
        "id": "bTDCHjVedqA5",
        "outputId": "8dd6232c-190f-44fa-f2e2-bed96ce7bceb"
      },
      "outputs": [
        {
          "name": "stdout",
          "output_type": "stream",
          "text": [
            "project path:  G:\\My Drive\\w281_final_project\n",
            "Data directory G:\\My Drive\\w281_final_project\\Data\n",
            "save path:  G:\\My Drive\\w281_final_project20230408_baseline_models/\n"
          ]
        }
      ],
      "source": [
        "# Paths\n",
        "main_path = \"G:\\\\My Drive\\\\\"\n",
        "\n",
        "project_path = \"w281_final_project\"\n",
        "project_path = os.path.join(main_path, project_path)\n",
        "\n",
        "datadir = os.path.join(project_path, \"Data\")\n",
        "\n",
        "save_path = \"\".join([date.today().strftime('%Y%m%d'), \"_baseline_models/\"])\n",
        "save_path = \"\".join([project_path, save_path])\n",
        "\n",
        "# Sanity Check\n",
        "print(\"project path: \", project_path)\n",
        "print(\"Data directory\", datadir)\n",
        "print(\"save path: \", save_path)\n"
      ]
    },
    {
      "attachments": {},
      "cell_type": "markdown",
      "metadata": {
        "id": "wAYI83E4xno8"
      },
      "source": [
        "## Load tensorflow dataset to use in models"
      ]
    },
    {
      "cell_type": "code",
      "execution_count": 16,
      "metadata": {
        "colab": {
          "base_uri": "https://localhost:8080/",
          "height": 483
        },
        "id": "3UbAM-IMXw6A",
        "outputId": "8739c767-05cd-4e8c-cb31-294bdad15452"
      },
      "outputs": [
        {
          "name": "stdout",
          "output_type": "stream",
          "text": [
            "<class 'pandas.core.frame.DataFrame'>\n",
            "RangeIndex: 7909 entries, 0 to 7908\n",
            "Data columns (total 9 columns):\n",
            " #   Column            Non-Null Count  Dtype \n",
            "---  ------            --------------  ----- \n",
            " 0   BIOPSY_PROCEDURE  7909 non-null   object\n",
            " 1   TUMOR_CLASS       7909 non-null   object\n",
            " 2   TUMOR_TYPE        7909 non-null   object\n",
            " 3   YEAR              7909 non-null   object\n",
            " 4   SLIDE_ID          7909 non-null   object\n",
            " 5   MAGNIFICATION     7909 non-null   object\n",
            " 6   SEQ               7909 non-null   object\n",
            " 7   FULL_PATH         7909 non-null   object\n",
            " 8   BASE_NAME         7909 non-null   object\n",
            "dtypes: object(9)\n",
            "memory usage: 556.2+ KB\n"
          ]
        },
        {
          "data": {
            "text/html": [
              "<div>\n",
              "<style scoped>\n",
              "    .dataframe tbody tr th:only-of-type {\n",
              "        vertical-align: middle;\n",
              "    }\n",
              "\n",
              "    .dataframe tbody tr th {\n",
              "        vertical-align: top;\n",
              "    }\n",
              "\n",
              "    .dataframe thead th {\n",
              "        text-align: right;\n",
              "    }\n",
              "</style>\n",
              "<table border=\"1\" class=\"dataframe\">\n",
              "  <thead>\n",
              "    <tr style=\"text-align: right;\">\n",
              "      <th></th>\n",
              "      <th>BIOPSY_PROCEDURE</th>\n",
              "      <th>TUMOR_CLASS</th>\n",
              "      <th>TUMOR_TYPE</th>\n",
              "      <th>YEAR</th>\n",
              "      <th>SLIDE_ID</th>\n",
              "      <th>MAGNIFICATION</th>\n",
              "      <th>SEQ</th>\n",
              "      <th>FULL_PATH</th>\n",
              "      <th>BASE_NAME</th>\n",
              "    </tr>\n",
              "  </thead>\n",
              "  <tbody>\n",
              "    <tr>\n",
              "      <th>0</th>\n",
              "      <td>SOB</td>\n",
              "      <td>B</td>\n",
              "      <td>A</td>\n",
              "      <td>14</td>\n",
              "      <td>22549AB</td>\n",
              "      <td>100</td>\n",
              "      <td>004</td>\n",
              "      <td>/content/drive/MyDrive/w281_final_project/Data...</td>\n",
              "      <td>SOB_B_A-14-22549AB-100-004.png</td>\n",
              "    </tr>\n",
              "    <tr>\n",
              "      <th>1</th>\n",
              "      <td>SOB</td>\n",
              "      <td>B</td>\n",
              "      <td>A</td>\n",
              "      <td>14</td>\n",
              "      <td>22549AB</td>\n",
              "      <td>100</td>\n",
              "      <td>002</td>\n",
              "      <td>/content/drive/MyDrive/w281_final_project/Data...</td>\n",
              "      <td>SOB_B_A-14-22549AB-100-002.png</td>\n",
              "    </tr>\n",
              "    <tr>\n",
              "      <th>2</th>\n",
              "      <td>SOB</td>\n",
              "      <td>B</td>\n",
              "      <td>A</td>\n",
              "      <td>14</td>\n",
              "      <td>22549AB</td>\n",
              "      <td>100</td>\n",
              "      <td>003</td>\n",
              "      <td>/content/drive/MyDrive/w281_final_project/Data...</td>\n",
              "      <td>SOB_B_A-14-22549AB-100-003.png</td>\n",
              "    </tr>\n",
              "    <tr>\n",
              "      <th>3</th>\n",
              "      <td>SOB</td>\n",
              "      <td>B</td>\n",
              "      <td>A</td>\n",
              "      <td>14</td>\n",
              "      <td>22549AB</td>\n",
              "      <td>100</td>\n",
              "      <td>001</td>\n",
              "      <td>/content/drive/MyDrive/w281_final_project/Data...</td>\n",
              "      <td>SOB_B_A-14-22549AB-100-001.png</td>\n",
              "    </tr>\n",
              "    <tr>\n",
              "      <th>4</th>\n",
              "      <td>SOB</td>\n",
              "      <td>B</td>\n",
              "      <td>A</td>\n",
              "      <td>14</td>\n",
              "      <td>22549AB</td>\n",
              "      <td>100</td>\n",
              "      <td>007</td>\n",
              "      <td>/content/drive/MyDrive/w281_final_project/Data...</td>\n",
              "      <td>SOB_B_A-14-22549AB-100-007.png</td>\n",
              "    </tr>\n",
              "  </tbody>\n",
              "</table>\n",
              "</div>"
            ],
            "text/plain": [
              "  BIOPSY_PROCEDURE TUMOR_CLASS TUMOR_TYPE YEAR SLIDE_ID MAGNIFICATION  SEQ  \\\n",
              "0              SOB           B          A   14  22549AB           100  004   \n",
              "1              SOB           B          A   14  22549AB           100  002   \n",
              "2              SOB           B          A   14  22549AB           100  003   \n",
              "3              SOB           B          A   14  22549AB           100  001   \n",
              "4              SOB           B          A   14  22549AB           100  007   \n",
              "\n",
              "                                           FULL_PATH  \\\n",
              "0  /content/drive/MyDrive/w281_final_project/Data...   \n",
              "1  /content/drive/MyDrive/w281_final_project/Data...   \n",
              "2  /content/drive/MyDrive/w281_final_project/Data...   \n",
              "3  /content/drive/MyDrive/w281_final_project/Data...   \n",
              "4  /content/drive/MyDrive/w281_final_project/Data...   \n",
              "\n",
              "                        BASE_NAME  \n",
              "0  SOB_B_A-14-22549AB-100-004.png  \n",
              "1  SOB_B_A-14-22549AB-100-002.png  \n",
              "2  SOB_B_A-14-22549AB-100-003.png  \n",
              "3  SOB_B_A-14-22549AB-100-001.png  \n",
              "4  SOB_B_A-14-22549AB-100-007.png  "
            ]
          },
          "execution_count": 16,
          "metadata": {},
          "output_type": "execute_result"
        }
      ],
      "source": [
        "# load metadata information for full paths and annotations\n",
        "df = load_pickles(os.path.join(datadir, \"pickles\\metaData.pkl\"))\n",
        "\n",
        "# starting with 40x\n",
        "df.query('MAGNIFICATION == \"40\"').reset_index(inplace=True, drop=True)\n",
        "df.info()\n",
        "df.head()\n"
      ]
    },
    {
      "cell_type": "code",
      "execution_count": 17,
      "metadata": {},
      "outputs": [],
      "source": [
        "# swap beginning path from google drive to local computer path\n",
        "pattern = \"/content/drive/MyDrive/\"\n",
        "replacement = \"G:/My Drive/\"\n",
        "\n",
        "df['FULL_PATH'] = df['FULL_PATH'].str.replace(pattern, replacement)"
      ]
    },
    {
      "cell_type": "markdown",
      "metadata": {
        "id": "uwvBGTXx8Y8J"
      },
      "source": [
        "# Quick EDA"
      ]
    },
    {
      "cell_type": "code",
      "execution_count": 23,
      "metadata": {
        "cellView": "form",
        "colab": {
          "base_uri": "https://localhost:8080/",
          "height": 447
        },
        "id": "1pxwUCSH72Cz",
        "outputId": "e0b60014-fc6c-4291-b088-498ebdc5bdf1"
      },
      "outputs": [
        {
          "data": {
            "text/plain": [
              "<Axes: ylabel='count'>"
            ]
          },
          "execution_count": 23,
          "metadata": {},
          "output_type": "execute_result"
        },
        {
          "data": {
            "image/png": "[encoded data removed]",
            "text/plain": [
              "<Figure size 640x480 with 1 Axes>"
            ]
          },
          "metadata": {},
          "output_type": "display_data"
        }
      ],
      "source": [
        "# check distribution of labels\n",
        "sns.countplot(x=labels)\n"
      ]
    },
    {
      "cell_type": "markdown",
      "metadata": {
        "id": "ekkuc-7y8dSb"
      },
      "source": [
        "DC is by far the most prevelant in the dataset"
      ]
    },
    {
      "attachments": {},
      "cell_type": "markdown",
      "metadata": {
        "id": "YfbIMcDl8ac0"
      },
      "source": [
        "### Examples of images"
      ]
    },
    {
      "cell_type": "code",
      "execution_count": 26,
      "metadata": {
        "colab": {
          "base_uri": "https://localhost:8080/",
          "height": 497
        },
        "id": "0unGFbv59I2E",
        "outputId": "edb47413-d9cc-4fc4-890f-3de63a8cc29a"
      },
      "outputs": [
        {
          "data": {
            "text/plain": [
              "Text(0.5, 0.98, 'Sample of images in dataset')"
            ]
          },
          "execution_count": 26,
          "metadata": {},
          "output_type": "execute_result"
        },
        {
          "data": {
            "image/png": "[encoded data removed]",
            "text/plain": [
              "<Figure size 600x600 with 10 Axes>"
            ]
          },
          "metadata": {},
          "output_type": "display_data"
        }
      ],
      "source": [
        "# Examples of images\n",
        "df_temp = df.sample(10).reset_index(drop=True)\n",
        "\n",
        "nrows = 2\n",
        "ncols = 5\n",
        "\n",
        "fig, axs = plt.subplots(nrows, ncols, figsize=(6, 6))\n",
        "\n",
        "# Flatten axes to make it easier to access\n",
        "axs = axs.flatten()\n",
        "\n",
        "for i, file in enumerate(df_temp['FULL_PATH']):\n",
        "    #read in file\n",
        "    pic = plt.imread(file)\n",
        "\n",
        "    # add image to axes\n",
        "    axs[i].imshow(pic)\n",
        "\n",
        "    # drop axis labels\n",
        "    axs[i].axis('off')\n",
        "    # add axes title\n",
        "    axs[i].set(title=df_temp.loc[i, 'TUMOR_TYPE'])\n",
        "\n",
        "fig.suptitle(\"Sample of images in dataset\", fontsize=16)\n"
      ]
    },
    {
      "cell_type": "markdown",
      "metadata": {
        "id": "xQAtjHsFAUvP"
      },
      "source": [
        "Typically a trained histologist would evalulate the staining of each slide and rank them from 1-5 based on their own criteria. This provides issues when compariing tissues sections from different patients and labs. Processing the tissues and staining with hematoxylin and eosin can cause different artifcats to be present in the slides. Additional variations can come from image capture procedures. Luckily in this dataset the data curators used the same equipment and settings (*fact check please*). Regardless, it may be beneficial to normalize for brightness or intensity of colors. Initially our approach will be to use only grey scale images. "
      ]
    },
    {
      "cell_type": "markdown",
      "metadata": {
        "id": "ajNZBqPXBGXf"
      },
      "source": [
        "There are also gaps in some of the tissue that cause the area size to vary between slides. \n",
        "Orientation could also be a challenge. The tissue is not always oriented the same way to the view of the tissue can change depending on how the parafin was sectioned and laid on a slide. "
      ]
    },
    {
      "cell_type": "markdown",
      "metadata": {
        "id": "PpFLiFJ6BXvb"
      },
      "source": [
        "There are substructures within the images that histologist normally use to annotate these images. These features are important because the types of tissues that the cancer is affecting will change the appearance of the slide and staining profile. Understanding the effected cellular structures also helps to lead to diagnosises in the clinic. It would be interesting in future work to use this set to see what structures are effected by different types of cancer. "
      ]
    },
    {
      "cell_type": "markdown",
      "metadata": {
        "id": "bD8B1SWODbTU"
      },
      "source": [
        "# Creating dataset"
      ]
    },
    {
      "cell_type": "code",
      "execution_count": 27,
      "metadata": {
        "id": "DCrr0QF84zNG"
      },
      "outputs": [],
      "source": [
        "# convert labels to numeric representation\n",
        "from sklearn.preprocessing import LabelEncoder\n",
        "\n",
        "def encode_labels(labels):\n",
        "    \"\"\" take list of labels and turn into one hot encodings\"\"\"\n",
        "\n",
        "    # number of categories\n",
        "    depth = len(set(labels))\n",
        "\n",
        "    # create encoder\n",
        "    labelencoder = LabelEncoder()\n",
        "\n",
        "    # apply encoder to change string labels to integer\n",
        "    labels = labelencoder.fit_transform(labels)\n",
        "\n",
        "    # One-hot encodning to feed into model(s)\n",
        "    labels = tf.one_hot(labels, depth=depth)\n",
        "\n",
        "    return labels\n"
      ]
    },
    {
      "cell_type": "markdown",
      "metadata": {
        "id": "dorh6HLy7MhQ"
      },
      "source": [
        "More about [batched datasets](https://www.tensorflow.org/guide/data#batching_dataset_elements) can be found there."
      ]
    },
    {
      "cell_type": "code",
      "execution_count": 29,
      "metadata": {
        "id": "eiavEC-mzq2H"
      },
      "outputs": [],
      "source": [
        "def create_tf_ds(file_paths, labels):\n",
        "    \"\"\" Create tensorflow dataset from file paths and labels \"\"\"\n",
        "    # create dataset\n",
        "    ds = tf.data.Dataset.from_tensor_slices(\n",
        "        (file_paths, labels))  # mapping like a zip in python\n",
        "\n",
        "    return ds\n",
        "\n",
        "\n",
        "def read_image(image_file_path, label):\n",
        "    \"\"\"Function to read in images to create tf dataset\"\"\"\n",
        "    image = tf.io.read_file(image_file_path)  # read in image\n",
        "    # preserving RGB colors with channels = 3. Reads array\n",
        "    image = tf.image.decode_image(image, channels=3, dtype=tf.float32)\n",
        "\n",
        "    return image, label\n"
      ]
    },
    {
      "cell_type": "markdown",
      "metadata": {
        "id": "rG3KoWzgDMWq"
      },
      "source": [
        "## Image Augmentation"
      ]
    },
    {
      "attachments": {},
      "cell_type": "markdown",
      "metadata": {},
      "source": [
        "- [] Image Sharpening\n",
        "- [] Contrast\n",
        "- [] GrayScale\n",
        "- [] HOG\n",
        "- [] Edge Detection\n",
        "- [] Feature Tracking\n",
        "- [] UMAPS"
      ]
    },
    {
      "cell_type": "code",
      "execution_count": 32,
      "metadata": {},
      "outputs": [],
      "source": [
        "def augment_normalize(image, label): \n",
        "    # normalize image size\n",
        "    new_height = new_width = 32\n",
        "    image = tf.image.resize(image, (new_height, new_width))\n",
        "    \n",
        "    return image, label"
      ]
    },
    {
      "cell_type": "code",
      "execution_count": 33,
      "metadata": {},
      "outputs": [],
      "source": [
        "def augment_grayscale(image, label):\n",
        "    # turn image from RGB to grayscale\n",
        "    if tf.random.uniform((), minval=0, maxval=1) < 0.1:\n",
        "        image = tf.tile(tf.image(tf.image.rgb_to_grayscale(image), [1, 1, 3]))"
      ]
    },
    {
      "cell_type": "code",
      "execution_count": 34,
      "metadata": {},
      "outputs": [],
      "source": [
        "def augment_sharpen(image, label): \n",
        "    # image sharpening\n",
        "    return image, label"
      ]
    },
    {
      "cell_type": "code",
      "execution_count": 35,
      "metadata": {},
      "outputs": [],
      "source": [
        "# image sharpening\n",
        "def augment_contrast(image, label): \n",
        "    \"\"\" Adjust contrast of image \"\"\"\n",
        "    \n",
        "    image = tf.image.random_contrast(image, lower=0.1, upper=0.2)\n",
        "    \n",
        "    return image, label"
      ]
    },
    {
      "cell_type": "code",
      "execution_count": 36,
      "metadata": {},
      "outputs": [],
      "source": [
        "def augment_brightness(image, label): \n",
        "    \"\"\" Change image brightness on pixels a random amount \"\"\"\n",
        "    image = tf.image.random_brightness(image, max_delta=0.1)\n",
        "    \n",
        "    return image, label"
      ]
    },
    {
      "cell_type": "code",
      "execution_count": 37,
      "metadata": {},
      "outputs": [],
      "source": [
        "def augment_flip(image,label):\n",
        "    \"\"\" horizontal and vertically flip images\"\"\"\n",
        "    image = tf.image.random_flip_left_right(image)  # 50%\n",
        "    image = tf.image.random_flip_up_down(image)\n",
        "    \n",
        "    return image, label"
      ]
    },
    {
      "cell_type": "code",
      "execution_count": 38,
      "metadata": {},
      "outputs": [],
      "source": [
        "def augment(image, label):\n",
        "    # data augmentation here\n",
        "    # is done while the model is training\n",
        "    # did it this way to change which augmentations are applied. Thought it would be easier to break down functions into parts. \n",
        "\n",
        "    image, label = augment_normalize(image,label)\n",
        "    \n",
        "    image, label = augment_grayscale(image,label)\n",
        "    \n",
        "    image, label = augment_sharpen(image,label)\n",
        "    \n",
        "    image, label = augment_brightness(image,label)\n",
        "    \n",
        "    image, label = augment_contrast(image,label)\n",
        "    \n",
        "    image, label = augment_flip(image,label)\n",
        "   \n",
        "\n",
        "    return image, label"
      ]
    },
    {
      "attachments": {},
      "cell_type": "markdown",
      "metadata": {},
      "source": [
        "## Encode Labels"
      ]
    },
    {
      "cell_type": "code",
      "execution_count": null,
      "metadata": {},
      "outputs": [],
      "source": [
        "# can tts on pandas dataframe. faster than tf right now. would like to use the tf module to do \n",
        "from sklearn.model_selection import train_test_split\n",
        "\n",
        "# Split the dataset into training and testing sets\n",
        "train_df, test_df = train_test_split(\n",
        "    df[['FULL_PATH', 'TUMOR_TYPE']], test_size=0.3)\n",
        "\n",
        "# Optionally, you can further split the training dataset into a validation set\n",
        "train_df, val_df = train_test_split(train_df, test_size=0.2)\n",
        "train_df.head()"
      ]
    },
    {
      "cell_type": "code",
      "execution_count": 48,
      "metadata": {},
      "outputs": [
        {
          "data": {
            "text/plain": [
              "array(['A', 'A', 'A', ..., 'PC', 'PC', 'PC'], dtype=object)"
            ]
          },
          "execution_count": 48,
          "metadata": {},
          "output_type": "execute_result"
        }
      ],
      "source": [
        "file_paths = df['FULL_PATH'].values\n",
        "# using subtype of tumor labels as labels to get 8 different labels. Could use 'TUMOR_CLASS' if you want binary classification problem.\n",
        "\n",
        "labels = df['TUMOR_TYPE'].values\n",
        "\n",
        "# One-hot encoding for labels\n",
        "labels = encode_labels(labels)\n",
        "\n",
        "# create dataset (ds)\n",
        "ds = create_tf_ds(file_paths, labels)\n",
        "ds"
      ]
    },
    {
      "cell_type": "code",
      "execution_count": 57,
      "metadata": {},
      "outputs": [],
      "source": [
        "DATASET_SIZE = ds.cardinality().numpy()"
      ]
    },
    {
      "cell_type": "markdown",
      "metadata": {
        "id": "oNEj6yuTXms8"
      },
      "source": [
        "More info on splitting data in [tensorflow](https://www.tensorflow.org/datasets/splits)"
      ]
    },
    {
      "attachments": {},
      "cell_type": "markdown",
      "metadata": {},
      "source": [
        "### Train, test split"
      ]
    },
    {
      "cell_type": "code",
      "execution_count": 60,
      "metadata": {},
      "outputs": [],
      "source": [
        "train_size = int(0.7 * DATASET_SIZE)\n",
        "val_size = int(0.15 * DATASET_SIZE)\n",
        "test_size = int(0.15 * DATASET_SIZE)\n",
        "\n",
        "ds = ds.shuffle(buffer_size= DATASET_SIZE)\n",
        "train_dataset = ds.take(train_size)\n",
        "test_dataset = ds.skip(train_size)\n",
        "val_dataset = test_dataset.skip(val_size)\n",
        "test_dataset = test_dataset.take(test_size)"
      ]
    },
    {
      "cell_type": "code",
      "execution_count": null,
      "metadata": {
        "id": "yMgznqcrWDoC"
      },
      "outputs": [],
      "source": [
        "# train test split the data\n",
        "# train_size = 0.7\n",
        "# train, test = tf.keras.utils.split_dataset(\n",
        "#     dataset=ds, left_size=train_size, shuffle=True, seed=26)"
      ]
    },
    {
      "cell_type": "markdown",
      "metadata": {
        "id": "mOrsJYXMSdNz"
      },
      "source": [
        "Another way to set up the training set"
      ]
    },
    {
      "cell_type": "code",
      "execution_count": 53,
      "metadata": {
        "id": "WCI0EpawURhh"
      },
      "outputs": [],
      "source": [
        "def normalize_img(image, label):\n",
        "    \"\"\" Normalize images \"\"\"\n",
        "    return tf.cast(image, tf.float32) / 255.0 / label\n"
      ]
    },
    {
      "cell_type": "code",
      "execution_count": null,
      "metadata": {
        "id": "6HczZySiVPR5"
      },
      "outputs": [],
      "source": [
        "AUTOTUNE = tf.data.experimental.AUTOTUNE\n",
        "BATCH_SIZE = 32\n"
      ]
    },
    {
      "cell_type": "code",
      "execution_count": null,
      "metadata": {
        "id": "-1fctW1hSgnZ"
      },
      "outputs": [],
      "source": [
        "# setup for train dataset\n",
        "ds_train = ds_train.map(normalize_img, num_parallel_calls=AUTOTUNE)\n",
        "ds_train = ds_train.cache()\n",
        "ds_train = ds_train.shuffle(ds_info.splits['train'].num_examples)\n",
        "ds_train = ds_train.map(augment, num_parallel_calls=AUTOTUNE)\n",
        "ds_train = ds_train.batch(BATCH_SIZE)\n",
        "ds_train = ds_train.PREFETCH(AUTOTUNE)\n"
      ]
    },
    {
      "cell_type": "markdown",
      "metadata": {
        "id": "YeRuezd3TTRB"
      },
      "source": [
        "Another way"
      ]
    },
    {
      "cell_type": "code",
      "execution_count": null,
      "metadata": {
        "id": "kyMhr-d2TUi5"
      },
      "outputs": [],
      "source": [
        "data_augmentation = keras.Sequential(\n",
        "    [\n",
        "        layers.experimental.preprocessing.Resizing(\n",
        "            height=new_height, width=new_width)\n",
        "        layers.experimental.preprocessing.RandomFlip(mode='horizontal')\n",
        "        layers.experimental.preprocessing.RandomContrast(factor=0.1)\n",
        "    ]\n",
        ")\n"
      ]
    },
    {
      "cell_type": "code",
      "execution_count": 41,
      "metadata": {
        "id": "HpbJI927CIGp"
      },
      "outputs": [],
      "source": [
        "# def plot_batch_sizes(ds):\n",
        "#   batch_sizes = [batch.shape[0] for batch in ds]\n",
        "#   plt.bar(range(len(batch_sizes)), batch_sizes)\n",
        "#   plt.xlabel('Batch number')\n",
        "#   plt.ylabel('Batch size')\n"
      ]
    },
    {
      "cell_type": "markdown",
      "metadata": {
        "id": "U67Jh9HGDgD2"
      },
      "source": []
    },
    {
      "cell_type": "markdown",
      "metadata": {
        "id": "mvy3ATagCiT7"
      },
      "source": [
        "Train validation test split (60/10/30)\n",
        "shuffle data"
      ]
    },
    {
      "cell_type": "code",
      "execution_count": null,
      "metadata": {
        "id": "JiuF8AdZ6KvH"
      },
      "outputs": [],
      "source": []
    },
    {
      "cell_type": "code",
      "execution_count": null,
      "metadata": {
        "colab": {
          "base_uri": "https://localhost:8080/",
          "height": 363
        },
        "id": "glQAhBPv2MJf",
        "outputId": "22bf33db-dec3-428c-d4b5-c7499c9c8735"
      },
      "outputs": [
        {
          "ename": "KeyboardInterrupt",
          "evalue": "ignored",
          "output_type": "error",
          "traceback": [
            "\u001b[0;31m---------------------------------------------------------------------------\u001b[0m",
            "\u001b[0;31mKeyboardInterrupt\u001b[0m                         Traceback (most recent call last)",
            "\u001b[0;32m<ipython-input-76-5d8891d3a740>\u001b[0m in \u001b[0;36m<cell line: 1>\u001b[0;34m()\u001b[0m\n\u001b[1;32m      1\u001b[0m \u001b[0;32mfor\u001b[0m \u001b[0mepoch\u001b[0m \u001b[0;32min\u001b[0m \u001b[0mrange\u001b[0m\u001b[0;34m(\u001b[0m\u001b[0;36m10\u001b[0m\u001b[0;34m)\u001b[0m\u001b[0;34m:\u001b[0m\u001b[0;34m\u001b[0m\u001b[0;34m\u001b[0m\u001b[0m\n\u001b[0;32m----> 2\u001b[0;31m   \u001b[0;32mfor\u001b[0m \u001b[0mx\u001b[0m\u001b[0;34m,\u001b[0m \u001b[0my\u001b[0m \u001b[0;32min\u001b[0m \u001b[0mds_train\u001b[0m\u001b[0;34m:\u001b[0m\u001b[0;34m\u001b[0m\u001b[0;34m\u001b[0m\u001b[0m\n\u001b[0m\u001b[1;32m      3\u001b[0m     \u001b[0;31m# train here\u001b[0m\u001b[0;34m\u001b[0m\u001b[0;34m\u001b[0m\u001b[0m\n\u001b[1;32m      4\u001b[0m     \u001b[0;32mpass\u001b[0m\u001b[0;34m\u001b[0m\u001b[0;34m\u001b[0m\u001b[0m\n",
            "\u001b[0;32m/usr/local/lib/python3.9/dist-packages/tensorflow/python/data/ops/iterator_ops.py\u001b[0m in \u001b[0;36m__next__\u001b[0;34m(self)\u001b[0m\n\u001b[1;32m    795\u001b[0m   \u001b[0;32mdef\u001b[0m \u001b[0m__next__\u001b[0m\u001b[0;34m(\u001b[0m\u001b[0mself\u001b[0m\u001b[0;34m)\u001b[0m\u001b[0;34m:\u001b[0m\u001b[0;34m\u001b[0m\u001b[0;34m\u001b[0m\u001b[0m\n\u001b[1;32m    796\u001b[0m     \u001b[0;32mtry\u001b[0m\u001b[0;34m:\u001b[0m\u001b[0;34m\u001b[0m\u001b[0;34m\u001b[0m\u001b[0m\n\u001b[0;32m--> 797\u001b[0;31m       \u001b[0;32mreturn\u001b[0m \u001b[0mself\u001b[0m\u001b[0;34m.\u001b[0m\u001b[0m_next_internal\u001b[0m\u001b[0;34m(\u001b[0m\u001b[0;34m)\u001b[0m\u001b[0;34m\u001b[0m\u001b[0;34m\u001b[0m\u001b[0m\n\u001b[0m\u001b[1;32m    798\u001b[0m     \u001b[0;32mexcept\u001b[0m \u001b[0merrors\u001b[0m\u001b[0;34m.\u001b[0m\u001b[0mOutOfRangeError\u001b[0m\u001b[0;34m:\u001b[0m\u001b[0;34m\u001b[0m\u001b[0;34m\u001b[0m\u001b[0m\n\u001b[1;32m    799\u001b[0m       \u001b[0;32mraise\u001b[0m \u001b[0mStopIteration\u001b[0m\u001b[0;34m\u001b[0m\u001b[0;34m\u001b[0m\u001b[0m\n",
            "\u001b[0;32m/usr/local/lib/python3.9/dist-packages/tensorflow/python/data/ops/iterator_ops.py\u001b[0m in \u001b[0;36m_next_internal\u001b[0;34m(self)\u001b[0m\n\u001b[1;32m    778\u001b[0m     \u001b[0;31m# to communicate that there is no more data to iterate over.\u001b[0m\u001b[0;34m\u001b[0m\u001b[0;34m\u001b[0m\u001b[0m\n\u001b[1;32m    779\u001b[0m     \u001b[0;32mwith\u001b[0m \u001b[0mcontext\u001b[0m\u001b[0;34m.\u001b[0m\u001b[0mexecution_mode\u001b[0m\u001b[0;34m(\u001b[0m\u001b[0mcontext\u001b[0m\u001b[0;34m.\u001b[0m\u001b[0mSYNC\u001b[0m\u001b[0;34m)\u001b[0m\u001b[0;34m:\u001b[0m\u001b[0;34m\u001b[0m\u001b[0;34m\u001b[0m\u001b[0m\n\u001b[0;32m--> 780\u001b[0;31m       ret = gen_dataset_ops.iterator_get_next(\n\u001b[0m\u001b[1;32m    781\u001b[0m           \u001b[0mself\u001b[0m\u001b[0;34m.\u001b[0m\u001b[0m_iterator_resource\u001b[0m\u001b[0;34m,\u001b[0m\u001b[0;34m\u001b[0m\u001b[0;34m\u001b[0m\u001b[0m\n\u001b[1;32m    782\u001b[0m           \u001b[0moutput_types\u001b[0m\u001b[0;34m=\u001b[0m\u001b[0mself\u001b[0m\u001b[0;34m.\u001b[0m\u001b[0m_flat_output_types\u001b[0m\u001b[0;34m,\u001b[0m\u001b[0;34m\u001b[0m\u001b[0;34m\u001b[0m\u001b[0m\n",
            "\u001b[0;32m/usr/local/lib/python3.9/dist-packages/tensorflow/python/ops/gen_dataset_ops.py\u001b[0m in \u001b[0;36miterator_get_next\u001b[0;34m(iterator, output_types, output_shapes, name)\u001b[0m\n\u001b[1;32m   3009\u001b[0m   \u001b[0;32mif\u001b[0m \u001b[0mtld\u001b[0m\u001b[0;34m.\u001b[0m\u001b[0mis_eager\u001b[0m\u001b[0;34m:\u001b[0m\u001b[0;34m\u001b[0m\u001b[0;34m\u001b[0m\u001b[0m\n\u001b[1;32m   3010\u001b[0m     \u001b[0;32mtry\u001b[0m\u001b[0;34m:\u001b[0m\u001b[0;34m\u001b[0m\u001b[0;34m\u001b[0m\u001b[0m\n\u001b[0;32m-> 3011\u001b[0;31m       _result = pywrap_tfe.TFE_Py_FastPathExecute(\n\u001b[0m\u001b[1;32m   3012\u001b[0m         \u001b[0m_ctx\u001b[0m\u001b[0;34m,\u001b[0m \u001b[0;34m\"IteratorGetNext\"\u001b[0m\u001b[0;34m,\u001b[0m \u001b[0mname\u001b[0m\u001b[0;34m,\u001b[0m \u001b[0miterator\u001b[0m\u001b[0;34m,\u001b[0m \u001b[0;34m\"output_types\"\u001b[0m\u001b[0;34m,\u001b[0m \u001b[0moutput_types\u001b[0m\u001b[0;34m,\u001b[0m\u001b[0;34m\u001b[0m\u001b[0;34m\u001b[0m\u001b[0m\n\u001b[1;32m   3013\u001b[0m         \"output_shapes\", output_shapes)\n",
            "\u001b[0;31mKeyboardInterrupt\u001b[0m: "
          ]
        }
      ],
      "source": [
        "for epoch in range(10):\n",
        "    for x, y in ds_train:\n",
        "        # train here\n",
        "        pass\n"
      ]
    },
    {
      "cell_type": "code",
      "execution_count": null,
      "metadata": {
        "id": "veDGzvEU2tif"
      },
      "outputs": [],
      "source": [
        "from tensorflow import keras\n",
        "from tensorflow.keras import layers\n"
      ]
    },
    {
      "cell_type": "code",
      "execution_count": null,
      "metadata": {
        "id": "tjg9ftFq2Vvk"
      },
      "outputs": [],
      "source": [
        "model = keras.Sequential([\n",
        "    layers.Input((28, 28, 1)),\n",
        "    layers.Conv2D(16, 3, padding='same'),\n",
        "    layers.Conv2D(32, 3, padding='same'),\n",
        "    layers.MaxPooling2D(),\n",
        "    layers.Flatten(),\n",
        "    layers.Dense(8)\n",
        "])\n"
      ]
    },
    {
      "cell_type": "code",
      "execution_count": null,
      "metadata": {
        "id": "L_ya7L9H2ldU"
      },
      "outputs": [],
      "source": [
        "model.compile(\n",
        "    optimizer=keras.optimizers.Adam(),\n",
        "    loss=[\n",
        "        keras.losses.CategoricalCrossentropy(from_logits=True),\n",
        "    ],\n",
        "    metrics=['accuracy'],\n",
        ")\n"
      ]
    },
    {
      "cell_type": "code",
      "execution_count": null,
      "metadata": {
        "colab": {
          "base_uri": "https://localhost:8080/",
          "height": 1000
        },
        "id": "I8SpHxZd3N52",
        "outputId": "297cf9e8-2b55-4ccf-b6eb-ae4460dfdfba"
      },
      "outputs": [
        {
          "name": "stdout",
          "output_type": "stream",
          "text": [
            "Epoch 1/10\n"
          ]
        },
        {
          "ename": "UnimplementedError",
          "evalue": "ignored",
          "output_type": "error",
          "traceback": [
            "\u001b[0;31m---------------------------------------------------------------------------\u001b[0m",
            "\u001b[0;31mUnimplementedError\u001b[0m                        Traceback (most recent call last)",
            "\u001b[0;32m<ipython-input-80-85accc4936ed>\u001b[0m in \u001b[0;36m<cell line: 1>\u001b[0;34m()\u001b[0m\n\u001b[0;32m----> 1\u001b[0;31m model.fit(ds_train,\n\u001b[0m\u001b[1;32m      2\u001b[0m           \u001b[0mepochs\u001b[0m\u001b[0;34m=\u001b[0m\u001b[0;36m10\u001b[0m\u001b[0;34m,\u001b[0m\u001b[0;34m\u001b[0m\u001b[0;34m\u001b[0m\u001b[0m\n\u001b[1;32m      3\u001b[0m           verbose=2)\n",
            "\u001b[0;32m/usr/local/lib/python3.9/dist-packages/keras/utils/traceback_utils.py\u001b[0m in \u001b[0;36merror_handler\u001b[0;34m(*args, **kwargs)\u001b[0m\n\u001b[1;32m     68\u001b[0m             \u001b[0;31m# To get the full stack trace, call:\u001b[0m\u001b[0;34m\u001b[0m\u001b[0;34m\u001b[0m\u001b[0m\n\u001b[1;32m     69\u001b[0m             \u001b[0;31m# `tf.debugging.disable_traceback_filtering()`\u001b[0m\u001b[0;34m\u001b[0m\u001b[0;34m\u001b[0m\u001b[0m\n\u001b[0;32m---> 70\u001b[0;31m             \u001b[0;32mraise\u001b[0m \u001b[0me\u001b[0m\u001b[0;34m.\u001b[0m\u001b[0mwith_traceback\u001b[0m\u001b[0;34m(\u001b[0m\u001b[0mfiltered_tb\u001b[0m\u001b[0;34m)\u001b[0m \u001b[0;32mfrom\u001b[0m \u001b[0;32mNone\u001b[0m\u001b[0;34m\u001b[0m\u001b[0;34m\u001b[0m\u001b[0m\n\u001b[0m\u001b[1;32m     71\u001b[0m         \u001b[0;32mfinally\u001b[0m\u001b[0;34m:\u001b[0m\u001b[0;34m\u001b[0m\u001b[0;34m\u001b[0m\u001b[0m\n\u001b[1;32m     72\u001b[0m             \u001b[0;32mdel\u001b[0m \u001b[0mfiltered_tb\u001b[0m\u001b[0;34m\u001b[0m\u001b[0;34m\u001b[0m\u001b[0m\n",
            "\u001b[0;32m/usr/local/lib/python3.9/dist-packages/tensorflow/python/eager/execute.py\u001b[0m in \u001b[0;36mquick_execute\u001b[0;34m(op_name, num_outputs, inputs, attrs, ctx, name)\u001b[0m\n\u001b[1;32m     50\u001b[0m   \u001b[0;32mtry\u001b[0m\u001b[0;34m:\u001b[0m\u001b[0;34m\u001b[0m\u001b[0;34m\u001b[0m\u001b[0m\n\u001b[1;32m     51\u001b[0m     \u001b[0mctx\u001b[0m\u001b[0;34m.\u001b[0m\u001b[0mensure_initialized\u001b[0m\u001b[0;34m(\u001b[0m\u001b[0;34m)\u001b[0m\u001b[0;34m\u001b[0m\u001b[0;34m\u001b[0m\u001b[0m\n\u001b[0;32m---> 52\u001b[0;31m     tensors = pywrap_tfe.TFE_Py_Execute(ctx._handle, device_name, op_name,\n\u001b[0m\u001b[1;32m     53\u001b[0m                                         inputs, attrs, num_outputs)\n\u001b[1;32m     54\u001b[0m   \u001b[0;32mexcept\u001b[0m \u001b[0mcore\u001b[0m\u001b[0;34m.\u001b[0m\u001b[0m_NotOkStatusException\u001b[0m \u001b[0;32mas\u001b[0m \u001b[0me\u001b[0m\u001b[0;34m:\u001b[0m\u001b[0;34m\u001b[0m\u001b[0;34m\u001b[0m\u001b[0m\n",
            "\u001b[0;31mUnimplementedError\u001b[0m: Graph execution error:\n\nDetected at node 'sequential_1/conv2d_2/BiasAdd' defined at (most recent call last):\n    File \"/usr/lib/python3.9/runpy.py\", line 197, in _run_module_as_main\n      return _run_code(code, main_globals, None,\n    File \"/usr/lib/python3.9/runpy.py\", line 87, in _run_code\n      exec(code, run_globals)\n    File \"/usr/local/lib/python3.9/dist-packages/ipykernel_launcher.py\", line 16, in <module>\n      app.launch_new_instance()\n    File \"/usr/local/lib/python3.9/dist-packages/traitlets/config/application.py\", line 992, in launch_instance\n      app.start()\n    File \"/usr/local/lib/python3.9/dist-packages/ipykernel/kernelapp.py\", line 619, in start\n      self.io_loop.start()\n    File \"/usr/local/lib/python3.9/dist-packages/tornado/platform/asyncio.py\", line 215, in start\n      self.asyncio_loop.run_forever()\n    File \"/usr/lib/python3.9/asyncio/base_events.py\", line 601, in run_forever\n      self._run_once()\n    File \"/usr/lib/python3.9/asyncio/base_events.py\", line 1905, in _run_once\n      handle._run()\n    File \"/usr/lib/python3.9/asyncio/events.py\", line 80, in _run\n      self._context.run(self._callback, *self._args)\n    File \"/usr/local/lib/python3.9/dist-packages/tornado/ioloop.py\", line 687, in <lambda>\n      lambda f: self._run_callback(functools.partial(callback, future))\n    File \"/usr/local/lib/python3.9/dist-packages/tornado/ioloop.py\", line 740, in _run_callback\n      ret = callback()\n    File \"/usr/local/lib/python3.9/dist-packages/tornado/gen.py\", line 821, in inner\n      self.ctx_run(self.run)\n    File \"/usr/local/lib/python3.9/dist-packages/tornado/gen.py\", line 782, in run\n      yielded = self.gen.send(value)\n    File \"/usr/local/lib/python3.9/dist-packages/ipykernel/kernelbase.py\", line 361, in process_one\n      yield gen.maybe_future(dispatch(*args))\n    File \"/usr/local/lib/python3.9/dist-packages/tornado/gen.py\", line 234, in wrapper\n      yielded = ctx_run(next, result)\n    File \"/usr/local/lib/python3.9/dist-packages/ipykernel/kernelbase.py\", line 261, in dispatch_shell\n      yield gen.maybe_future(handler(stream, idents, msg))\n    File \"/usr/local/lib/python3.9/dist-packages/tornado/gen.py\", line 234, in wrapper\n      yielded = ctx_run(next, result)\n    File \"/usr/local/lib/python3.9/dist-packages/ipykernel/kernelbase.py\", line 539, in execute_request\n      self.do_execute(\n    File \"/usr/local/lib/python3.9/dist-packages/tornado/gen.py\", line 234, in wrapper\n      yielded = ctx_run(next, result)\n    File \"/usr/local/lib/python3.9/dist-packages/ipykernel/ipkernel.py\", line 302, in do_execute\n      res = shell.run_cell(code, store_history=store_history, silent=silent)\n    File \"/usr/local/lib/python3.9/dist-packages/ipykernel/zmqshell.py\", line 539, in run_cell\n      return super(ZMQInteractiveShell, self).run_cell(*args, **kwargs)\n    File \"/usr/local/lib/python3.9/dist-packages/IPython/core/interactiveshell.py\", line 2975, in run_cell\n      result = self._run_cell(\n    File \"/usr/local/lib/python3.9/dist-packages/IPython/core/interactiveshell.py\", line 3030, in _run_cell\n      return runner(coro)\n    File \"/usr/local/lib/python3.9/dist-packages/IPython/core/async_helpers.py\", line 78, in _pseudo_sync_runner\n      coro.send(None)\n    File \"/usr/local/lib/python3.9/dist-packages/IPython/core/interactiveshell.py\", line 3257, in run_cell_async\n      has_raised = await self.run_ast_nodes(code_ast.body, cell_name,\n    File \"/usr/local/lib/python3.9/dist-packages/IPython/core/interactiveshell.py\", line 3473, in run_ast_nodes\n      if (await self.run_code(code, result,  async_=asy)):\n    File \"/usr/local/lib/python3.9/dist-packages/IPython/core/interactiveshell.py\", line 3553, in run_code\n      exec(code_obj, self.user_global_ns, self.user_ns)\n    File \"<ipython-input-80-85accc4936ed>\", line 1, in <cell line: 1>\n      model.fit(ds_train,\n    File \"/usr/local/lib/python3.9/dist-packages/keras/utils/traceback_utils.py\", line 65, in error_handler\n      return fn(*args, **kwargs)\n    File \"/usr/local/lib/python3.9/dist-packages/keras/engine/training.py\", line 1685, in fit\n      tmp_logs = self.train_function(iterator)\n    File \"/usr/local/lib/python3.9/dist-packages/keras/engine/training.py\", line 1284, in train_function\n      return step_function(self, iterator)\n    File \"/usr/local/lib/python3.9/dist-packages/keras/engine/training.py\", line 1268, in step_function\n      outputs = model.distribute_strategy.run(run_step, args=(data,))\n    File \"/usr/local/lib/python3.9/dist-packages/keras/engine/training.py\", line 1249, in run_step\n      outputs = model.train_step(data)\n    File \"/usr/local/lib/python3.9/dist-packages/keras/engine/training.py\", line 1050, in train_step\n      y_pred = self(x, training=True)\n    File \"/usr/local/lib/python3.9/dist-packages/keras/utils/traceback_utils.py\", line 65, in error_handler\n      return fn(*args, **kwargs)\n    File \"/usr/local/lib/python3.9/dist-packages/keras/engine/training.py\", line 558, in __call__\n      return super().__call__(*args, **kwargs)\n    File \"/usr/local/lib/python3.9/dist-packages/keras/utils/traceback_utils.py\", line 65, in error_handler\n      return fn(*args, **kwargs)\n    File \"/usr/local/lib/python3.9/dist-packages/keras/engine/base_layer.py\", line 1145, in __call__\n      outputs = call_fn(inputs, *args, **kwargs)\n    File \"/usr/local/lib/python3.9/dist-packages/keras/utils/traceback_utils.py\", line 96, in error_handler\n      return fn(*args, **kwargs)\n    File \"/usr/local/lib/python3.9/dist-packages/keras/engine/sequential.py\", line 412, in call\n      return super().call(inputs, training=training, mask=mask)\n    File \"/usr/local/lib/python3.9/dist-packages/keras/engine/functional.py\", line 512, in call\n      return self._run_internal_graph(inputs, training=training, mask=mask)\n    File \"/usr/local/lib/python3.9/dist-packages/keras/engine/functional.py\", line 669, in _run_internal_graph\n      outputs = node.layer(*args, **kwargs)\n    File \"/usr/local/lib/python3.9/dist-packages/keras/utils/traceback_utils.py\", line 65, in error_handler\n      return fn(*args, **kwargs)\n    File \"/usr/local/lib/python3.9/dist-packages/keras/engine/base_layer.py\", line 1145, in __call__\n      outputs = call_fn(inputs, *args, **kwargs)\n    File \"/usr/local/lib/python3.9/dist-packages/keras/utils/traceback_utils.py\", line 96, in error_handler\n      return fn(*args, **kwargs)\n    File \"/usr/local/lib/python3.9/dist-packages/keras/layers/convolutional/base_conv.py\", line 311, in call\n      outputs = tf.nn.bias_add(\nNode: 'sequential_1/conv2d_2/BiasAdd'\nFused conv implementation does not support grouped convolutions for now.\n\t [[{{node sequential_1/conv2d_2/BiasAdd}}]] [Op:__inference_train_function_2524]"
          ]
        }
      ],
      "source": [
        "model.fit(ds_train,\n",
        "          epochs=10,\n",
        "          verbose=2)\n"
      ]
    },
    {
      "cell_type": "markdown",
      "metadata": {
        "id": "_Z2cUbJp7Y66"
      },
      "source": [
        "size of cancer cells and progress of patients\n",
        "brightness contrast, window detection iding siz of window. same window to different resolution\n",
        "- feature tracking with TF \n",
        "  - integrating into models, post model or pre-processing\n",
        "\n",
        "- gray scale\n",
        "- UMAP\n",
        "- sharpening and contrast"
      ]
    },
    {
      "cell_type": "markdown",
      "metadata": {
        "id": "zeetYTzfoDfw"
      },
      "source": [
        "# Image Pre-Processing\n",
        "\n",
        "tf functions for images: https://www.tensorflow.org/api_docs/python/tf/keras/preprocessing/image"
      ]
    },
    {
      "cell_type": "code",
      "execution_count": null,
      "metadata": {
        "id": "f8vfS9X_n2UR"
      },
      "outputs": [],
      "source": []
    },
    {
      "cell_type": "markdown",
      "metadata": {
        "id": "YFLEiDQPszGm"
      },
      "source": [
        "## Create training and test sets"
      ]
    },
    {
      "cell_type": "markdown",
      "metadata": {
        "id": "LcP4stAmyLcQ"
      },
      "source": [
        "# Model Creation"
      ]
    },
    {
      "cell_type": "code",
      "execution_count": null,
      "metadata": {
        "id": "W-yCY3Q5GWt7"
      },
      "outputs": [],
      "source": [
        "# Baseline TensorFlow model\n",
        "def create_baseline_cnn(inputShape=(460, 700, 3)):\n",
        "    # max_sequence_length, hidden_layers, filters, kernel_size, learning_rate, embedding_size - other parameters excluding for now\n",
        "    \"\"\" \n",
        "    Creating baseline CNN for comparison\n",
        "    \"\"\"\n",
        "    inputs = tf.keras.layers.Input(shape=inputShape, name=\"Input_Layer\")\n",
        "\n",
        "    # Add convolutional layers\n",
        "    x = tf.keras.layers.Conv2D(filters=32, kernel_size=(\n",
        "        3, 3), padding=\"same\", activation='relu')(inputs)\n",
        "    x = tf.keras.layers.MaxPooling2D(pool_size=(2, 2))(x)\n",
        "    x = tf.keras.layers.Conv2D(\n",
        "        filters=64, kernel_size=(3, 3), activation='relu')(x)\n",
        "    x = tf.keras.layers.MaxPooling2D(pool_size=(2, 2))(x)\n",
        "\n",
        "    # Flatten the output from the convolutional layers\n",
        "    x = tf.keras.layers.Flatten()(x)\n",
        "\n",
        "    # Add dense layers for classification\n",
        "    x = tf.keras.layers.Dense(units=128, activation='relu')(x)\n",
        "    outputs = tf.keras.layers.Dense(units=10, activation='softmax')(x)\n",
        "\n",
        "    # Create the model\n",
        "    model = tf.keras.Model(inputs=inputs, outputs=outputs)\n",
        "\n",
        "    return model\n"
      ]
    },
    {
      "cell_type": "code",
      "execution_count": null,
      "metadata": {
        "id": "fSxE6c5Mlnel"
      },
      "outputs": [],
      "source": [
        "baseModel = create_baseline_cnn()\n"
      ]
    },
    {
      "cell_type": "markdown",
      "metadata": {
        "id": "wnQ4d_EziVfG"
      },
      "source": [
        "# Paper Model: \n",
        "Input Layer: \n",
        "- some transformations such as mean-subtraction and feature scaling\n",
        "- parameters are (32 x 32 or 64 x 64) and 3 channels for RGB\n",
        "\n",
        "Convolution Layers:\n",
        "- (kernels) are of size 5 × 5, the zero-padding is set to 2 and the stride is set to 1. \n",
        "- first two convolutional layers learn 32 filters, initialized from Gaussian Distribution with SD of 0.0001 and 0.01 respectively\n",
        "- last layer learns 64 filters and intialized from Gaussian distribution with SD of 0.0001\n",
        "\n",
        "Pooling Layers: \n",
        "- responsible for down sampling spatial dimension of input\n",
        "- one after each convolution layer\n",
        "- 3 x 3 receptive field with stride of 2 \n",
        "- first uses max operation over receptive field and other two are average pooling\n",
        "\n",
        "ReLU Layers: \n",
        "- Treating as a layer\n",
        "- Given an input value x, the ReLU layer computes the neuron’s output f(x) as x if x > 0 and (α × x) if x <= 0. The parameter α specifies whether to leak the negative part by multiplying it with the slope value (0.01 or so) rather than setting it to 0.\n",
        "- default α is 0. When not set, $f(x) = max(0,x)$ aka activation threshold at zero\n",
        "\n",
        "Inner-product layers (fully connected layers): \n",
        "- input treated as vector and produce output in form of single vector\n",
        "- two inner-product layers\n",
        "- the last is a fully-connected output layer with softmax activation and depends on number of classes for classification problem 2 for binary classification\n"
      ]
    },
    {
      "cell_type": "code",
      "execution_count": null,
      "metadata": {
        "id": "qY7dX3hWiTc7"
      },
      "outputs": [],
      "source": [
        "inputShape = (32, 32, 3)\n",
        "\n",
        "inputs = tf.keras.layers.Input(shape=inputShape, name=\"Input_Layer\")\n",
        "\n",
        "# Add convolutional layers\n",
        "x = tf.keras.layers.Conv2D(filters=32, kernel_size=(\n",
        "    5, 5), strides=(1, 1), activation='relu')(inputs)\n",
        "x = tf.keras.layers.MaxPooling2D(pool_size=(2, 2))(x)\n",
        "x = tf.keras.layers.Conv2D(\n",
        "    filters=64, kernel_size=(3, 3), activation='relu')(x)\n",
        "x = tf.keras.layers.MaxPooling2D(pool_size=(2, 2))(x)\n",
        "\n",
        "# Flatten the output from the convolutional layers\n",
        "x = tf.keras.layers.Flatten()(x)\n",
        "\n",
        "# Add dense layers for classification\n",
        "x = tf.keras.layers.Dense(units=128, activation='relu')(x)\n",
        "outputs = tf.keras.layers.Dense(units=10, activation='softmax')(x)\n",
        "\n",
        "# Create the model\n",
        "model = tf.keras.Model(inputs=inputs, outputs=outputs)\n"
      ]
    },
    {
      "cell_type": "markdown",
      "metadata": {
        "id": "VyInn5AXlc8q"
      },
      "source": [
        "The main idea is to extract from the high resolution\n",
        "images patches with sizes that are close to those of the CIFAR\n",
        "dataset. Since we are dealing with textures, the main premise is\n",
        "that these patches can contain enough information for training\n",
        "a model, provided an appropriate set of patches is extracted\n",
        "from each image. \n",
        "\n",
        "Two Strategies: \n",
        "1. 32 x 32 window with 50% overlap\n",
        "2. 64 x 64 window with no overlap and random sampling on image"
      ]
    },
    {
      "cell_type": "code",
      "execution_count": null,
      "metadata": {
        "id": "5ub4kWFtyu18"
      },
      "outputs": [],
      "source": [
        "learningRate = 1E-6\n"
      ]
    },
    {
      "cell_type": "code",
      "execution_count": null,
      "metadata": {
        "id": "qdDtIrDqnt6K"
      },
      "outputs": [],
      "source": [
        "momentumTerm = 0.9\n"
      ]
    },
    {
      "cell_type": "code",
      "execution_count": null,
      "metadata": {
        "id": "r8bgJXCrnyCF"
      },
      "outputs": [],
      "source": [
        "weightDecay = 4e-5\n"
      ]
    },
    {
      "cell_type": "code",
      "execution_count": null,
      "metadata": {
        "id": "f-5Pz-JLn0pg"
      },
      "outputs": [],
      "source": [
        "iterations = 8e5\n"
      ]
    },
    {
      "cell_type": "markdown",
      "metadata": {
        "id": "f5ODxfuqp1Sc"
      },
      "source": [
        "# Creating Model"
      ]
    },
    {
      "cell_type": "code",
      "execution_count": null,
      "metadata": {
        "id": "59JGBHENr29o"
      },
      "outputs": [],
      "source": [
        "import tensorflow as tf\n",
        "\n",
        "# Load the CIFAR-10 dataset\n",
        "(x_train, y_train), (x_test, y_test) = tf.keras.datasets.cifar10.load_data()\n",
        "\n",
        "# Normalize the pixel values\n",
        "x_train = x_train.astype(\"float32\") / 255.0\n",
        "x_test = x_test.astype(\"float32\") / 255.0\n",
        "\n",
        "# Convert the labels to one-hot encoding\n",
        "y_train = tf.keras.utils.to_categorical(y_train, num_classes=2)\n",
        "y_test = tf.keras.utils.to_categorical(y_test, num_classes=2)\n",
        "\n",
        "# Define the model architecture\n",
        "model = tf.keras.Sequential([\n",
        "    tf.keras.layers.Conv2D(32, (3, 3), activation=\"relu\",\n",
        "                           input_shape=(32, 32, 3)),\n",
        "    tf.keras.layers.MaxPooling2D((2, 2)),\n",
        "    tf.keras.layers.Conv2D(64, (3, 3), activation=\"relu\"),\n",
        "    tf.keras.layers.MaxPooling2D((2, 2)),\n",
        "    tf.keras.layers.Conv2D(64, (3, 3), activation=\"relu\"),\n",
        "    tf.keras.layers.Flatten(),\n",
        "    tf.keras.layers.Dense(64, activation=\"relu\"),\n",
        "    tf.keras.layers.Dense(10, activation=\"softmax\")\n",
        "])\n",
        "\n",
        "# Compile the model\n",
        "model.compile(optimizer=\"adam\",\n",
        "              loss=\"categorical_crossentropy\",\n",
        "              metrics=[\"accuracy\"])\n",
        "\n",
        "# Train the model\n",
        "history = model.fit(x_train, y_train, epochs=10,\n",
        "                    batch_size=64, validation_split=0.2)\n",
        "\n",
        "# Evaluate the model on the test set\n",
        "test_loss, test_acc = model.evaluate(x_test, y_test)\n",
        "print(\"Test accuracy:\", test_acc)\n"
      ]
    },
    {
      "cell_type": "code",
      "execution_count": null,
      "metadata": {
        "id": "x9YIGJgasYc8"
      },
      "outputs": [],
      "source": [
        "# Define the callback to save the model weights\n",
        "checkpoint_path = \"model_checkpoint.h5\"\n",
        "checkpoint_callback = tf.keras.callbacks.ModelCheckpoint(\n",
        "    filepath=checkpoint_path,\n",
        "    save_weights_only=True,\n",
        "    monitor=\"val_accuracy\",\n",
        "    save_best_only=True,\n",
        "    verbose=1\n",
        ")\n",
        "\n",
        "# Train the model with the callback\n",
        "history = model.fit(\n",
        "    x_train, y_train,\n",
        "    epochs=10,\n",
        "    batch_size=32,\n",
        "    validation_data=(x_val, y_val),\n",
        "    callbacks=[checkpoint_callback]\n",
        ")\n",
        "\n",
        "# Load the best model weights from the checkpoint\n",
        "model.load_weights(checkpoint_path)\n"
      ]
    },
    {
      "cell_type": "markdown",
      "metadata": {
        "id": "0f9RRgKZpkug"
      },
      "source": [
        "# Model Performance\n",
        "\n",
        "\n",
        "$\\text{Patient Score} = \\frac{N_{rec}}{N_p}$  \n",
        "\n",
        "## Global Patient Recognition Rate\n",
        "$\\text{Patient Recognition Rate} = \\frac{\\Sigma Patient Score}{Total Number of Patients}$\n",
        "\n",
        "$\\text{Image Recognition Rate} = \\frac{N_{rec}}{N_{all}}$ \n",
        "\n",
        "\n"
      ]
    },
    {
      "cell_type": "markdown",
      "metadata": {
        "id": "7bp_hXlMr2KO"
      },
      "source": []
    },
    {
      "cell_type": "code",
      "execution_count": null,
      "metadata": {
        "id": "V_0Bjxnnpkdn"
      },
      "outputs": [],
      "source": []
    }
  ],
  "metadata": {
    "colab": {
      "collapsed_sections": [
        "LcP4stAmyLcQ",
        "wnQ4d_EziVfG",
        "f5ODxfuqp1Sc",
        "0f9RRgKZpkug"
      ],
      "include_colab_link": true,
      "provenance": []
    },
    "kernelspec": {
      "display_name": "Python 3",
      "name": "python3"
    },
    "language_info": {
      "codemirror_mode": {
        "name": "ipython",
        "version": 3
      },
      "file_extension": ".py",
      "mimetype": "text/x-python",
      "name": "python",
      "nbconvert_exporter": "python",
      "pygments_lexer": "ipython3",
      "version": "3.10.10"
    }
  },
  "nbformat": 4,
  "nbformat_minor": 0
}
