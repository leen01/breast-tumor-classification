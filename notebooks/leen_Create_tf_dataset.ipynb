{
  "cells": [
    {
      "cell_type": "markdown",
      "metadata": {
        "id": "R6oU8VyzdSsd"
      },
      "source": [
        "# ***Computer Vision Final Project: Breast Cancer Tumor Classification***\n",
        "## Section 1 Spring 2023\n",
        "### Nicholas Lee, Nic Brathwaite, Amir Moayed\n",
        "\n",
        "# Baseline Models"
      ]
    },
    {
      "cell_type": "markdown",
      "metadata": {
        "id": "G-NFMvVXdmB1"
      },
      "source": [
        "### Setup"
      ]
    },
    {
      "cell_type": "code",
      "execution_count": 2,
      "metadata": {
        "id": "TuVaK97zc-V0"
      },
      "outputs": [],
      "source": [
        "# Google packages\n",
        "from google.colab import drive\n",
        "from google.colab import files\n",
        "# from google.colab.patches import cv2_imshow\n",
        "\n",
        "# base packages\n",
        "import os\n",
        "import warnings\n",
        "import random\n",
        "from datetime import date\n",
        "import re\n",
        "from tqdm.notebook import tqdm # progress bar library\n",
        "import glob\n",
        "\n",
        "# DS packages\n",
        "import pandas as pd\n",
        "import numpy as np\n",
        "import matplotlib.pyplot as plt\n",
        "import matplotlib.image as mpimg\n",
        "import seaborn as sns\n",
        "\n",
        "# image packages\n",
        "import PIL\n",
        "import urllib\n",
        "# import cv2\n",
        "# from skimage.color import rgb2gray\n",
        "# import skimage.io as skio\n",
        "\n",
        "# ML packages\n",
        "# import scipy as sc\n",
        "# import sklearn as sk\n",
        "import tensorflow as tf\n",
        "\n",
        "%matplotlib inline"
      ]
    },
    {
      "cell_type": "code",
      "execution_count": null,
      "metadata": {
        "id": "mjm0K6DNCYlK"
      },
      "outputs": [],
      "source": [
        "gpu_instance = True\n",
        "\n",
        "if gpu_instance == True: \n",
        "  tf.config.list_physical_devices()  \n",
        "  tf.test.gpu_device_name()\n",
        "  !export CUDA_VISIBLE_DEVICES=0  "
      ]
    },
    {
      "cell_type": "markdown",
      "metadata": {
        "id": "SRgdefJEf-wg"
      },
      "source": [
        "# Github connection\n",
        "\n",
        "[See here for instructions](https://towardsdatascience.com/using-git-with-colab-via-ssh-175e8f3751ec)\n",
        "\n",
        "Thinking of using for version control and final project submission"
      ]
    },
    {
      "cell_type": "markdown",
      "metadata": {
        "id": "y5USqlR3pJ7B"
      },
      "source": [
        "# Functions"
      ]
    },
    {
      "cell_type": "code",
      "execution_count": 3,
      "metadata": {
        "id": "UBGwk61tpMo2"
      },
      "outputs": [],
      "source": [
        "# pickle object for later\n",
        "import pickle\n",
        "\n",
        "def pickler(ob, pklFileName):\n",
        "  \"\"\" \n",
        "    Create pickle object to load later or in different environments for use later\n",
        "\n",
        "    ob: object, python object intended to pickle\n",
        "    pklFileName: string, name of the pickle file e.g. \"User/content/drive/209/ThisDataFrame.pkl\"\n",
        "  \"\"\"\n",
        "  \n",
        "  with open(pklFileName, \"wb+\") as f:\n",
        "    pickle.dump(ob, f)\n",
        "\n",
        "def load_pickles(pklFilePath):\n",
        "  \"\"\"\n",
        "    path: string, path to object\n",
        "    pklFileName: string, pickle file name with extension .pkl\n",
        "  \"\"\"\n",
        "\n",
        "  return pd.read_pickle(pklFilePath)"
      ]
    },
    {
      "cell_type": "code",
      "execution_count": 4,
      "metadata": {
        "colab": {
          "base_uri": "https://localhost:8080/"
        },
        "id": "GISHBRt_wK-5",
        "outputId": "7a4161b2-66e6-48f0-e37a-5ae8efec6708"
      },
      "outputs": [
        {
          "name": "stdout",
          "output_type": "stream",
          "text": [
            "Mounted at /content/drive\n"
          ]
        }
      ],
      "source": [
        "# Mount google drive\n",
        "drive.mount('/content/drive')"
      ]
    },
    {
      "cell_type": "markdown",
      "metadata": {
        "id": "WhkTwaKefVQc"
      },
      "source": [
        "## File Paths"
      ]
    },
    {
      "cell_type": "code",
      "execution_count": null,
      "metadata": {
        "colab": {
          "base_uri": "https://localhost:8080/"
        },
        "id": "bTDCHjVedqA5",
        "outputId": "5c5249b3-b491-42aa-e2dd-698626e26ab4"
      },
      "outputs": [
        {
          "name": "stdout",
          "output_type": "stream",
          "text": [
            "project path:  /content/drive/MyDrive/w281_final_project/\n",
            "data path benign:  /content/drive/MyDrive/w281_final_project/Data/BreaKHis_v1/BreaKHis_v1/histology_slides/breast/benign/\n",
            "data path malignant:  /content/drive/MyDrive/w281_final_project/Data/BreaKHis_v1/BreaKHis_v1/histology_slides/breast/malignant/\n",
            "save path:  /content/drive/MyDrive/w281_final_project/20230323_baseline_models/\n"
          ]
        }
      ],
      "source": [
        "# Paths\n",
        "main_path = \"/content/drive/MyDrive/\"\n",
        "\n",
        "project_path = \"w281_final_project/\"\n",
        "data_path_benign = \"Data/BreaKHis_v1/BreaKHis_v1/histology_slides/breast/benign/\"\n",
        "data_path_malignant = \"Data/BreaKHis_v1/BreaKHis_v1/histology_slides/breast/malignant/\"\n",
        "save_path = \"\".join([date.today().strftime('%Y%m%d'), \"_baseline_models/\"])\n",
        "\n",
        "project_path = \"\".join([main_path, project_path])\n",
        "data_path_benign = \"\".join([project_path, data_path_benign])\n",
        "data_path_malignant = \"\".join([project_path, data_path_malignant])\n",
        "save_path = \"\".join([project_path, save_path])\n",
        "\n",
        "# Sanity Check\n",
        "print(\"project path: \", project_path)\n",
        "print(\"data path benign: \", data_path_benign)\n",
        "print(\"data path malignant: \", data_path_malignant)\n",
        "print(\"save path: \", save_path)"
      ]
    },
    {
      "cell_type": "code",
      "execution_count": null,
      "metadata": {
        "colab": {
          "base_uri": "https://localhost:8080/"
        },
        "id": "DXliMtMOhdcy",
        "outputId": "9f83429b-30ae-4dc9-c1b1-d8e9c876a6e7"
      },
      "outputs": [
        {
          "name": "stdout",
          "output_type": "stream",
          "text": [
            "SOB benign /content/drive/MyDrive/w281_final_project/Data/BreaKHis_v1/BreaKHis_v1/histology_slides/breast/benign/SOB/\n",
            "SOB malignant /content/drive/MyDrive/w281_final_project/Data/BreaKHis_v1/BreaKHis_v1/histology_slides/breast/malignant/SOB/\n"
          ]
        }
      ],
      "source": [
        "# Benign and Malignant Directories\n",
        "benign_directory = \"\".join([data_path_benign, \"SOB/\"])\n",
        "malignant_directory = \"\".join([data_path_malignant, \"SOB/\"])\n",
        "\n",
        "print(\"SOB benign\", benign_directory)\n",
        "print(\"SOB malignant\", malignant_directory)"
      ]
    },
    {
      "cell_type": "markdown",
      "metadata": {
        "id": "NRHc61DXpGvE"
      },
      "source": [
        "# Hard Coded Variables"
      ]
    },
    {
      "cell_type": "code",
      "execution_count": null,
      "metadata": {
        "id": "cWOQwpKmlDRc"
      },
      "outputs": [],
      "source": [
        "# Folders & Resolution\n",
        "forty = \"40X\"\n",
        "one_hundred = \"100X\"\n",
        "two_hundred = \"200X\"\n",
        "four_hundred = \"400X\"\n"
      ]
    },
    {
      "cell_type": "code",
      "execution_count": null,
      "metadata": {
        "id": "696b0ta9pi3D"
      },
      "outputs": [],
      "source": [
        "class fileMetaData: \n",
        "  def __init__(fileName): \n",
        "    self.fileName = fileName"
      ]
    },
    {
      "cell_type": "code",
      "execution_count": null,
      "metadata": {
        "id": "wKAEhdK4pyja"
      },
      "outputs": [],
      "source": [
        "labels = {\n",
        "    \"BIOPSY_PROCEDURE\": \"\", \n",
        "    \"TUMOR_CLASS\": \"\", \n",
        "    \"TUMOR_TYPE\":\"\", \n",
        "    \"YEAR\": \"\",\n",
        "    \"SLIDE_ID\": \"\", \n",
        "    \"MAGNIFICATION\": \"\",\n",
        "    \"SEQ\":\"\"\n",
        "}"
      ]
    },
    {
      "cell_type": "code",
      "execution_count": null,
      "metadata": {
        "id": "KU66BMtMxqk-"
      },
      "outputs": [],
      "source": [
        "# categories\n",
        "categories = {'B': 'Benign',\n",
        "              'M': 'Malignant',\n",
        "              'A': 'Adenosis',\n",
        "              'F': 'Fibroadenoma',\n",
        "              'TA': 'Tubular Adenoma',\n",
        "              'PT': 'Phyllodes Tumor',\n",
        "              'DC': 'Ductal Carcinoma',\n",
        "              'LC': 'Lobular Carcinoma',\n",
        "              'MC': 'Mucinous Carcinoma (Colloid)',\n",
        "              'PC': 'Papillary Carcinoma'}"
      ]
    },
    {
      "cell_type": "markdown",
      "metadata": {
        "id": "Nhquz0LmpQ60"
      },
      "source": [
        "# Creating Meta Data"
      ]
    },
    {
      "cell_type": "code",
      "execution_count": null,
      "metadata": {
        "id": "4GgdO_NUvx_H"
      },
      "outputs": [],
      "source": [
        "data_dir = \"/content/drive/MyDrive/w281_final_project/Data/BreaKHis_v1/BreaKHis_v1/histology_slides/breast\""
      ]
    },
    {
      "cell_type": "code",
      "execution_count": null,
      "metadata": {
        "id": "Mc1ogLMTvbwO"
      },
      "outputs": [],
      "source": [
        "indivdual_files = glob.glob(data_dir + \"/**/*.png\", recursive=True)"
      ]
    },
    {
      "cell_type": "code",
      "execution_count": null,
      "metadata": {
        "colab": {
          "base_uri": "https://localhost:8080/"
        },
        "id": "QDsEDV7OxCMS",
        "outputId": "30f9552d-26d9-43ae-92b6-041cc0c42884"
      },
      "outputs": [
        {
          "data": {
            "text/plain": [
              "7909"
            ]
          },
          "execution_count": 15,
          "metadata": {},
          "output_type": "execute_result"
        }
      ],
      "source": [
        "len(indivdual_files)"
      ]
    },
    {
      "cell_type": "code",
      "execution_count": null,
      "metadata": {
        "id": "GFfIKE7oqwtQ"
      },
      "outputs": [],
      "source": [
        "def metaDataCreator(filePath):\n",
        "  \"\"\" Separate out the parts of a file path to get the annotations\n",
        "  \n",
        "  INPUT: Full path to file\n",
        "  OUTPUT: metadata dictionary  \n",
        "  \"\"\"\n",
        "\n",
        "  metaKeys = ['BIOPSY_PROCEDURE',\n",
        "            'TUMOR_CLASS',\n",
        "            'TUMOR_TYPE',\n",
        "            'YEAR',\n",
        "            'SLIDE_ID',\n",
        "            'MAGNIFICATION',\n",
        "            'SEQ']\n",
        "\n",
        "  fileName = os.path.basename(filePath)\n",
        "  metaValues = re.split(\"[\\._-]\", fileName)[:-1]\n",
        "\n",
        "  if len(metaValues) == 7: \n",
        "    metaData = {metaKeys[i]:metaValues[i] for i in range(len(metaValues))}\n",
        "    metaData[\"FULL_PATH\"] = filePath\n",
        "    metaData[\"BASE_NAME\"] = fileName\n",
        "    return metaData\n",
        " \n",
        "  else: \n",
        "    return None"
      ]
    },
    {
      "cell_type": "code",
      "execution_count": null,
      "metadata": {
        "id": "K88KPF6Zvb1K"
      },
      "outputs": [],
      "source": [
        "# Create dataframe constructor\n",
        "annotations = [metaDataCreator(f) for f in indivdual_files]\n",
        "\n",
        "# remove none and create dataframe\n",
        "df_fA = pd.DataFrame(list(filter(None, annotations)))\n",
        "\n",
        "# remove variable we no longer will need\n",
        "del(annotations)"
      ]
    },
    {
      "cell_type": "code",
      "execution_count": null,
      "metadata": {
        "colab": {
          "base_uri": "https://localhost:8080/",
          "height": 206
        },
        "id": "UF620q4NxSNR",
        "outputId": "e42eb002-fafd-4706-c256-52577a0d7aee"
      },
      "outputs": [
        {
          "data": {
            "text/html": [
              "\n",
              "  <div id=\"df-84cdc840-2831-4901-85ea-735681293782\">\n",
              "    <div class=\"colab-df-container\">\n",
              "      <div>\n",
              "<style scoped>\n",
              "    .dataframe tbody tr th:only-of-type {\n",
              "        vertical-align: middle;\n",
              "    }\n",
              "\n",
              "    .dataframe tbody tr th {\n",
              "        vertical-align: top;\n",
              "    }\n",
              "\n",
              "    .dataframe thead th {\n",
              "        text-align: right;\n",
              "    }\n",
              "</style>\n",
              "<table border=\"1\" class=\"dataframe\">\n",
              "  <thead>\n",
              "    <tr style=\"text-align: right;\">\n",
              "      <th></th>\n",
              "      <th>BIOPSY_PROCEDURE</th>\n",
              "      <th>TUMOR_CLASS</th>\n",
              "      <th>TUMOR_TYPE</th>\n",
              "      <th>YEAR</th>\n",
              "      <th>SLIDE_ID</th>\n",
              "      <th>MAGNIFICATION</th>\n",
              "      <th>SEQ</th>\n",
              "      <th>FULL_PATH</th>\n",
              "      <th>BASE_NAME</th>\n",
              "    </tr>\n",
              "  </thead>\n",
              "  <tbody>\n",
              "    <tr>\n",
              "      <th>0</th>\n",
              "      <td>SOB</td>\n",
              "      <td>B</td>\n",
              "      <td>A</td>\n",
              "      <td>14</td>\n",
              "      <td>22549AB</td>\n",
              "      <td>100</td>\n",
              "      <td>004</td>\n",
              "      <td>/content/drive/MyDrive/w281_final_project/Data...</td>\n",
              "      <td>SOB_B_A-14-22549AB-100-004.png</td>\n",
              "    </tr>\n",
              "    <tr>\n",
              "      <th>1</th>\n",
              "      <td>SOB</td>\n",
              "      <td>B</td>\n",
              "      <td>A</td>\n",
              "      <td>14</td>\n",
              "      <td>22549AB</td>\n",
              "      <td>100</td>\n",
              "      <td>002</td>\n",
              "      <td>/content/drive/MyDrive/w281_final_project/Data...</td>\n",
              "      <td>SOB_B_A-14-22549AB-100-002.png</td>\n",
              "    </tr>\n",
              "    <tr>\n",
              "      <th>2</th>\n",
              "      <td>SOB</td>\n",
              "      <td>B</td>\n",
              "      <td>A</td>\n",
              "      <td>14</td>\n",
              "      <td>22549AB</td>\n",
              "      <td>100</td>\n",
              "      <td>003</td>\n",
              "      <td>/content/drive/MyDrive/w281_final_project/Data...</td>\n",
              "      <td>SOB_B_A-14-22549AB-100-003.png</td>\n",
              "    </tr>\n",
              "    <tr>\n",
              "      <th>3</th>\n",
              "      <td>SOB</td>\n",
              "      <td>B</td>\n",
              "      <td>A</td>\n",
              "      <td>14</td>\n",
              "      <td>22549AB</td>\n",
              "      <td>100</td>\n",
              "      <td>001</td>\n",
              "      <td>/content/drive/MyDrive/w281_final_project/Data...</td>\n",
              "      <td>SOB_B_A-14-22549AB-100-001.png</td>\n",
              "    </tr>\n",
              "    <tr>\n",
              "      <th>4</th>\n",
              "      <td>SOB</td>\n",
              "      <td>B</td>\n",
              "      <td>A</td>\n",
              "      <td>14</td>\n",
              "      <td>22549AB</td>\n",
              "      <td>100</td>\n",
              "      <td>007</td>\n",
              "      <td>/content/drive/MyDrive/w281_final_project/Data...</td>\n",
              "      <td>SOB_B_A-14-22549AB-100-007.png</td>\n",
              "    </tr>\n",
              "  </tbody>\n",
              "</table>\n",
              "</div>\n",
              "      <button class=\"colab-df-convert\" onclick=\"convertToInteractive('df-84cdc840-2831-4901-85ea-735681293782')\"\n",
              "              title=\"Convert this dataframe to an interactive table.\"\n",
              "              style=\"display:none;\">\n",
              "        \n",
              "  <svg xmlns=\"http://www.w3.org/2000/svg\" height=\"24px\"viewBox=\"0 0 24 24\"\n",
              "       width=\"24px\">\n",
              "    <path d=\"M0 0h24v24H0V0z\" fill=\"none\"/>\n",
              "    <path d=\"M18.56 5.44l.94 2.06.94-2.06 2.06-.94-2.06-.94-.94-2.06-.94 2.06-2.06.94zm-11 1L8.5 8.5l.94-2.06 2.06-.94-2.06-.94L8.5 2.5l-.94 2.06-2.06.94zm10 10l.94 2.06.94-2.06 2.06-.94-2.06-.94-.94-2.06-.94 2.06-2.06.94z\"/><path d=\"M17.41 7.96l-1.37-1.37c-.4-.4-.92-.59-1.43-.59-.52 0-1.04.2-1.43.59L10.3 9.45l-7.72 7.72c-.78.78-.78 2.05 0 2.83L4 21.41c.39.39.9.59 1.41.59.51 0 1.02-.2 1.41-.59l7.78-7.78 2.81-2.81c.8-.78.8-2.07 0-2.86zM5.41 20L4 18.59l7.72-7.72 1.47 1.35L5.41 20z\"/>\n",
              "  </svg>\n",
              "      </button>\n",
              "      \n",
              "  <style>\n",
              "    .colab-df-container {\n",
              "      display:flex;\n",
              "      flex-wrap:wrap;\n",
              "      gap: 12px;\n",
              "    }\n",
              "\n",
              "    .colab-df-convert {\n",
              "      background-color: #E8F0FE;\n",
              "      border: none;\n",
              "      border-radius: 50%;\n",
              "      cursor: pointer;\n",
              "      display: none;\n",
              "      fill: #1967D2;\n",
              "      height: 32px;\n",
              "      padding: 0 0 0 0;\n",
              "      width: 32px;\n",
              "    }\n",
              "\n",
              "    .colab-df-convert:hover {\n",
              "      background-color: #E2EBFA;\n",
              "      box-shadow: 0px 1px 2px rgba(60, 64, 67, 0.3), 0px 1px 3px 1px rgba(60, 64, 67, 0.15);\n",
              "      fill: #174EA6;\n",
              "    }\n",
              "\n",
              "    [theme=dark] .colab-df-convert {\n",
              "      background-color: #3B4455;\n",
              "      fill: #D2E3FC;\n",
              "    }\n",
              "\n",
              "    [theme=dark] .colab-df-convert:hover {\n",
              "      background-color: #434B5C;\n",
              "      box-shadow: 0px 1px 3px 1px rgba(0, 0, 0, 0.15);\n",
              "      filter: drop-shadow(0px 1px 2px rgba(0, 0, 0, 0.3));\n",
              "      fill: #FFFFFF;\n",
              "    }\n",
              "  </style>\n",
              "\n",
              "      <script>\n",
              "        const buttonEl =\n",
              "          document.querySelector('#df-84cdc840-2831-4901-85ea-735681293782 button.colab-df-convert');\n",
              "        buttonEl.style.display =\n",
              "          google.colab.kernel.accessAllowed ? 'block' : 'none';\n",
              "\n",
              "        async function convertToInteractive(key) {\n",
              "          const element = document.querySelector('#df-84cdc840-2831-4901-85ea-735681293782');\n",
              "          const dataTable =\n",
              "            await google.colab.kernel.invokeFunction('convertToInteractive',\n",
              "                                                     [key], {});\n",
              "          if (!dataTable) return;\n",
              "\n",
              "          const docLinkHtml = 'Like what you see? Visit the ' +\n",
              "            '<a target=\"_blank\" href=https://colab.research.google.com/notebooks/data_table.ipynb>data table notebook</a>'\n",
              "            + ' to learn more about interactive tables.';\n",
              "          element.innerHTML = '';\n",
              "          dataTable['output_type'] = 'display_data';\n",
              "          await google.colab.output.renderOutput(dataTable, element);\n",
              "          const docLink = document.createElement('div');\n",
              "          docLink.innerHTML = docLinkHtml;\n",
              "          element.appendChild(docLink);\n",
              "        }\n",
              "      </script>\n",
              "    </div>\n",
              "  </div>\n",
              "  "
            ],
            "text/plain": [
              "  BIOPSY_PROCEDURE TUMOR_CLASS TUMOR_TYPE YEAR SLIDE_ID MAGNIFICATION  SEQ  \\\n",
              "0              SOB           B          A   14  22549AB           100  004   \n",
              "1              SOB           B          A   14  22549AB           100  002   \n",
              "2              SOB           B          A   14  22549AB           100  003   \n",
              "3              SOB           B          A   14  22549AB           100  001   \n",
              "4              SOB           B          A   14  22549AB           100  007   \n",
              "\n",
              "                                           FULL_PATH  \\\n",
              "0  /content/drive/MyDrive/w281_final_project/Data...   \n",
              "1  /content/drive/MyDrive/w281_final_project/Data...   \n",
              "2  /content/drive/MyDrive/w281_final_project/Data...   \n",
              "3  /content/drive/MyDrive/w281_final_project/Data...   \n",
              "4  /content/drive/MyDrive/w281_final_project/Data...   \n",
              "\n",
              "                        BASE_NAME  \n",
              "0  SOB_B_A-14-22549AB-100-004.png  \n",
              "1  SOB_B_A-14-22549AB-100-002.png  \n",
              "2  SOB_B_A-14-22549AB-100-003.png  \n",
              "3  SOB_B_A-14-22549AB-100-001.png  \n",
              "4  SOB_B_A-14-22549AB-100-007.png  "
            ]
          },
          "execution_count": 18,
          "metadata": {},
          "output_type": "execute_result"
        }
      ],
      "source": [
        "df_fA.head()"
      ]
    },
    {
      "cell_type": "code",
      "execution_count": null,
      "metadata": {
        "colab": {
          "base_uri": "https://localhost:8080/"
        },
        "id": "JtyZpe-MoHPY",
        "outputId": "72ef01b2-9bdd-4b9a-d1e3-b861385cfee7"
      },
      "outputs": [
        {
          "data": {
            "text/plain": [
              "(7909, 9)"
            ]
          },
          "execution_count": 19,
          "metadata": {},
          "output_type": "execute_result"
        }
      ],
      "source": [
        "df_fA.shape"
      ]
    },
    {
      "cell_type": "code",
      "execution_count": null,
      "metadata": {
        "colab": {
          "base_uri": "https://localhost:8080/",
          "height": 175
        },
        "id": "lOB93LwdxE33",
        "outputId": "ffc6b2f9-9117-4f0b-b76e-19db15dfeec5"
      },
      "outputs": [
        {
          "data": {
            "text/html": [
              "\n",
              "  <div id=\"df-5dbba239-5678-4eb0-86ea-8b104a7af341\">\n",
              "    <div class=\"colab-df-container\">\n",
              "      <div>\n",
              "<style scoped>\n",
              "    .dataframe tbody tr th:only-of-type {\n",
              "        vertical-align: middle;\n",
              "    }\n",
              "\n",
              "    .dataframe tbody tr th {\n",
              "        vertical-align: top;\n",
              "    }\n",
              "\n",
              "    .dataframe thead th {\n",
              "        text-align: right;\n",
              "    }\n",
              "</style>\n",
              "<table border=\"1\" class=\"dataframe\">\n",
              "  <thead>\n",
              "    <tr style=\"text-align: right;\">\n",
              "      <th></th>\n",
              "      <th>BIOPSY_PROCEDURE</th>\n",
              "      <th>TUMOR_CLASS</th>\n",
              "      <th>TUMOR_TYPE</th>\n",
              "      <th>YEAR</th>\n",
              "      <th>SLIDE_ID</th>\n",
              "      <th>MAGNIFICATION</th>\n",
              "      <th>SEQ</th>\n",
              "      <th>FULL_PATH</th>\n",
              "      <th>BASE_NAME</th>\n",
              "    </tr>\n",
              "  </thead>\n",
              "  <tbody>\n",
              "    <tr>\n",
              "      <th>count</th>\n",
              "      <td>7909</td>\n",
              "      <td>7909</td>\n",
              "      <td>7909</td>\n",
              "      <td>7909</td>\n",
              "      <td>7909</td>\n",
              "      <td>7909</td>\n",
              "      <td>7909</td>\n",
              "      <td>7909</td>\n",
              "      <td>7909</td>\n",
              "    </tr>\n",
              "    <tr>\n",
              "      <th>unique</th>\n",
              "      <td>1</td>\n",
              "      <td>2</td>\n",
              "      <td>8</td>\n",
              "      <td>2</td>\n",
              "      <td>81</td>\n",
              "      <td>4</td>\n",
              "      <td>83</td>\n",
              "      <td>7909</td>\n",
              "      <td>7909</td>\n",
              "    </tr>\n",
              "    <tr>\n",
              "      <th>top</th>\n",
              "      <td>SOB</td>\n",
              "      <td>M</td>\n",
              "      <td>DC</td>\n",
              "      <td>14</td>\n",
              "      <td>13412</td>\n",
              "      <td>100</td>\n",
              "      <td>004</td>\n",
              "      <td>/content/drive/MyDrive/w281_final_project/Data...</td>\n",
              "      <td>SOB_B_A-14-22549AB-100-004.png</td>\n",
              "    </tr>\n",
              "    <tr>\n",
              "      <th>freq</th>\n",
              "      <td>7909</td>\n",
              "      <td>5429</td>\n",
              "      <td>3451</td>\n",
              "      <td>7844</td>\n",
              "      <td>246</td>\n",
              "      <td>2081</td>\n",
              "      <td>318</td>\n",
              "      <td>1</td>\n",
              "      <td>1</td>\n",
              "    </tr>\n",
              "  </tbody>\n",
              "</table>\n",
              "</div>\n",
              "      <button class=\"colab-df-convert\" onclick=\"convertToInteractive('df-5dbba239-5678-4eb0-86ea-8b104a7af341')\"\n",
              "              title=\"Convert this dataframe to an interactive table.\"\n",
              "              style=\"display:none;\">\n",
              "        \n",
              "  <svg xmlns=\"http://www.w3.org/2000/svg\" height=\"24px\"viewBox=\"0 0 24 24\"\n",
              "       width=\"24px\">\n",
              "    <path d=\"M0 0h24v24H0V0z\" fill=\"none\"/>\n",
              "    <path d=\"M18.56 5.44l.94 2.06.94-2.06 2.06-.94-2.06-.94-.94-2.06-.94 2.06-2.06.94zm-11 1L8.5 8.5l.94-2.06 2.06-.94-2.06-.94L8.5 2.5l-.94 2.06-2.06.94zm10 10l.94 2.06.94-2.06 2.06-.94-2.06-.94-.94-2.06-.94 2.06-2.06.94z\"/><path d=\"M17.41 7.96l-1.37-1.37c-.4-.4-.92-.59-1.43-.59-.52 0-1.04.2-1.43.59L10.3 9.45l-7.72 7.72c-.78.78-.78 2.05 0 2.83L4 21.41c.39.39.9.59 1.41.59.51 0 1.02-.2 1.41-.59l7.78-7.78 2.81-2.81c.8-.78.8-2.07 0-2.86zM5.41 20L4 18.59l7.72-7.72 1.47 1.35L5.41 20z\"/>\n",
              "  </svg>\n",
              "      </button>\n",
              "      \n",
              "  <style>\n",
              "    .colab-df-container {\n",
              "      display:flex;\n",
              "      flex-wrap:wrap;\n",
              "      gap: 12px;\n",
              "    }\n",
              "\n",
              "    .colab-df-convert {\n",
              "      background-color: #E8F0FE;\n",
              "      border: none;\n",
              "      border-radius: 50%;\n",
              "      cursor: pointer;\n",
              "      display: none;\n",
              "      fill: #1967D2;\n",
              "      height: 32px;\n",
              "      padding: 0 0 0 0;\n",
              "      width: 32px;\n",
              "    }\n",
              "\n",
              "    .colab-df-convert:hover {\n",
              "      background-color: #E2EBFA;\n",
              "      box-shadow: 0px 1px 2px rgba(60, 64, 67, 0.3), 0px 1px 3px 1px rgba(60, 64, 67, 0.15);\n",
              "      fill: #174EA6;\n",
              "    }\n",
              "\n",
              "    [theme=dark] .colab-df-convert {\n",
              "      background-color: #3B4455;\n",
              "      fill: #D2E3FC;\n",
              "    }\n",
              "\n",
              "    [theme=dark] .colab-df-convert:hover {\n",
              "      background-color: #434B5C;\n",
              "      box-shadow: 0px 1px 3px 1px rgba(0, 0, 0, 0.15);\n",
              "      filter: drop-shadow(0px 1px 2px rgba(0, 0, 0, 0.3));\n",
              "      fill: #FFFFFF;\n",
              "    }\n",
              "  </style>\n",
              "\n",
              "      <script>\n",
              "        const buttonEl =\n",
              "          document.querySelector('#df-5dbba239-5678-4eb0-86ea-8b104a7af341 button.colab-df-convert');\n",
              "        buttonEl.style.display =\n",
              "          google.colab.kernel.accessAllowed ? 'block' : 'none';\n",
              "\n",
              "        async function convertToInteractive(key) {\n",
              "          const element = document.querySelector('#df-5dbba239-5678-4eb0-86ea-8b104a7af341');\n",
              "          const dataTable =\n",
              "            await google.colab.kernel.invokeFunction('convertToInteractive',\n",
              "                                                     [key], {});\n",
              "          if (!dataTable) return;\n",
              "\n",
              "          const docLinkHtml = 'Like what you see? Visit the ' +\n",
              "            '<a target=\"_blank\" href=https://colab.research.google.com/notebooks/data_table.ipynb>data table notebook</a>'\n",
              "            + ' to learn more about interactive tables.';\n",
              "          element.innerHTML = '';\n",
              "          dataTable['output_type'] = 'display_data';\n",
              "          await google.colab.output.renderOutput(dataTable, element);\n",
              "          const docLink = document.createElement('div');\n",
              "          docLink.innerHTML = docLinkHtml;\n",
              "          element.appendChild(docLink);\n",
              "        }\n",
              "      </script>\n",
              "    </div>\n",
              "  </div>\n",
              "  "
            ],
            "text/plain": [
              "       BIOPSY_PROCEDURE TUMOR_CLASS TUMOR_TYPE  YEAR SLIDE_ID MAGNIFICATION  \\\n",
              "count              7909        7909       7909  7909     7909          7909   \n",
              "unique                1           2          8     2       81             4   \n",
              "top                 SOB           M         DC    14    13412           100   \n",
              "freq               7909        5429       3451  7844      246          2081   \n",
              "\n",
              "         SEQ                                          FULL_PATH  \\\n",
              "count   7909                                               7909   \n",
              "unique    83                                               7909   \n",
              "top      004  /content/drive/MyDrive/w281_final_project/Data...   \n",
              "freq     318                                                  1   \n",
              "\n",
              "                             BASE_NAME  \n",
              "count                             7909  \n",
              "unique                            7909  \n",
              "top     SOB_B_A-14-22549AB-100-004.png  \n",
              "freq                                 1  "
            ]
          },
          "execution_count": 20,
          "metadata": {},
          "output_type": "execute_result"
        }
      ],
      "source": [
        "df_fA.describe(include = 'all')"
      ]
    },
    {
      "cell_type": "code",
      "execution_count": null,
      "metadata": {
        "id": "BpyRpAxooHI5"
      },
      "outputs": [],
      "source": [
        "pklFileName = os.path.join(\"/content/drive/MyDrive/w281_final_project/Data/pickles\", \"metaData.pkl\")\n",
        "\n",
        "pickler(df_fA, pklFileName)"
      ]
    },
    {
      "cell_type": "markdown",
      "metadata": {
        "id": "wAYI83E4xno8"
      },
      "source": [
        "# Create tensorflow dataset to use in models"
      ]
    },
    {
      "cell_type": "code",
      "execution_count": 15,
      "metadata": {
        "id": "JLTUuQ1u72uw"
      },
      "outputs": [],
      "source": [
        "df_fA = load_pickles(os.path.join(\"/content/drive/MyDrive/w281_final_project/Data/pickles\", \"metaData.pkl\"))"
      ]
    },
    {
      "cell_type": "code",
      "execution_count": 16,
      "metadata": {
        "colab": {
          "base_uri": "https://localhost:8080/"
        },
        "id": "v5EOYGfwzNeR",
        "outputId": "ee40430d-72f5-4432-b8fa-36c5eef80130"
      },
      "outputs": [
        {
          "name": "stdout",
          "output_type": "stream",
          "text": [
            "<class 'pandas.core.frame.DataFrame'>\n",
            "RangeIndex: 7909 entries, 0 to 7908\n",
            "Data columns (total 9 columns):\n",
            " #   Column            Non-Null Count  Dtype \n",
            "---  ------            --------------  ----- \n",
            " 0   BIOPSY_PROCEDURE  7909 non-null   object\n",
            " 1   TUMOR_CLASS       7909 non-null   object\n",
            " 2   TUMOR_TYPE        7909 non-null   object\n",
            " 3   YEAR              7909 non-null   object\n",
            " 4   SLIDE_ID          7909 non-null   object\n",
            " 5   MAGNIFICATION     7909 non-null   object\n",
            " 6   SEQ               7909 non-null   object\n",
            " 7   FULL_PATH         7909 non-null   object\n",
            " 8   BASE_NAME         7909 non-null   object\n",
            "dtypes: object(9)\n",
            "memory usage: 556.2+ KB\n"
          ]
        }
      ],
      "source": [
        "df_fA.info()"
      ]
    },
    {
      "cell_type": "markdown",
      "metadata": {
        "id": "ZicNh43F1LFV"
      },
      "source": [
        "Some bias will be inherent in the data set. There are twice as many malignant images as benign. "
      ]
    },
    {
      "cell_type": "code",
      "execution_count": null,
      "metadata": {
        "colab": {
          "base_uri": "https://localhost:8080/"
        },
        "id": "Ka0VPNtj1PDU",
        "outputId": "c453512a-f0b8-4eee-d14c-8fae52c7971d"
      },
      "outputs": [
        {
          "data": {
            "text/plain": [
              "M    5429\n",
              "B    2480\n",
              "Name: TUMOR_CLASS, dtype: int64"
            ]
          },
          "execution_count": 6,
          "metadata": {},
          "output_type": "execute_result"
        }
      ],
      "source": [
        "df_fA.loc[:, \"TUMOR_CLASS\"].value_counts()"
      ]
    },
    {
      "cell_type": "code",
      "execution_count": null,
      "metadata": {
        "colab": {
          "base_uri": "https://localhost:8080/"
        },
        "id": "9B3JYpi609Nu",
        "outputId": "68e5958b-2690-4c71-d51b-77d73d08657e"
      },
      "outputs": [
        {
          "data": {
            "text/plain": [
              "TUMOR_CLASS  TUMOR_TYPE\n",
              "M            DC            3451\n",
              "B            F             1014\n",
              "M            MC             792\n",
              "             LC             626\n",
              "B            TA             569\n",
              "M            PC             560\n",
              "B            PT             453\n",
              "             A              444\n",
              "dtype: int64"
            ]
          },
          "execution_count": 7,
          "metadata": {},
          "output_type": "execute_result"
        }
      ],
      "source": [
        "df_fA.loc[:, [\"TUMOR_CLASS\", \"TUMOR_TYPE\"]].value_counts()"
      ]
    },
    {
      "cell_type": "code",
      "execution_count": null,
      "metadata": {
        "id": "x7-VNDjlbCCg"
      },
      "outputs": [],
      "source": [
        "# df_fA.loc[:, ['FULL_PATH', 'TUMOR_CLASS']].to_csv(\"/content/drive/MyDrive/w281_final_project/Data/tf_data/annotations.csv\")"
      ]
    },
    {
      "cell_type": "code",
      "execution_count": null,
      "metadata": {
        "colab": {
          "base_uri": "https://localhost:8080/"
        },
        "id": "UoiwKwp-jW2t",
        "outputId": "37fab90e-1bcc-4fbd-a6d9-1b4a5e696a67"
      },
      "outputs": [
        {
          "data": {
            "text/plain": [
              "array(['100', '200', '400', '40'], dtype=object)"
            ]
          },
          "execution_count": 9,
          "metadata": {},
          "output_type": "execute_result"
        }
      ],
      "source": [
        "df_fA['MAGNIFICATION'].unique()"
      ]
    },
    {
      "cell_type": "code",
      "execution_count": null,
      "metadata": {
        "id": "17m_NxgnC8Tw"
      },
      "outputs": [],
      "source": [
        "# Define the data directory and image dimensions\n",
        "batch_size, img_height, img_width, channels = 32, 470, 700, 3"
      ]
    },
    {
      "cell_type": "code",
      "execution_count": null,
      "metadata": {
        "id": "2XgVd_yLJx6w"
      },
      "outputs": [],
      "source": [
        "# Define the data directory and image dimensions\n",
        "batch_size, img_height, img_width, channels = 32, 470, 700, 3\n",
        "\n",
        "filename = df_fA.loc[0, \"FULL_PATH\"]\n",
        "\n",
        "img = tf.keras.preprocessing.image.load_img(\n",
        "            filename,\n",
        "            target_size=(img_height, img_width)\n",
        "        )\n",
        "        "
      ]
    },
    {
      "cell_type": "code",
      "execution_count": null,
      "metadata": {
        "colab": {
          "base_uri": "https://localhost:8080/",
          "height": 286
        },
        "id": "8kQjWIPKM0vZ",
        "outputId": "5b1d2dca-290e-41b1-e905-03d9c8cfc9df"
      },
      "outputs": [
        {
          "data": {
            "text/plain": [
              "<matplotlib.image.AxesImage at 0x7fb054dffe80>"
            ]
          },
          "execution_count": 52,
          "metadata": {},
          "output_type": "execute_result"
        },
        {
          "data": {
            "image/png": "[encoded data removed]",
            "text/plain": [
              "<Figure size 432x288 with 1 Axes>"
            ]
          },
          "metadata": {
            "needs_background": "light"
          },
          "output_type": "display_data"
        }
      ],
      "source": [
        "plt.imshow(img)"
      ]
    },
    {
      "cell_type": "code",
      "execution_count": null,
      "metadata": {
        "id": "7-0hyZ58JzoV"
      },
      "outputs": [],
      "source": [
        "image_array = tf.keras.preprocessing.image.img_to_array(img)"
      ]
    },
    {
      "cell_type": "code",
      "execution_count": null,
      "metadata": {
        "colab": {
          "base_uri": "https://localhost:8080/"
        },
        "id": "S9RAlDX1WO0M",
        "outputId": "5e1dd333-c467-4296-ca9b-af1628f9f903"
      },
      "outputs": [
        {
          "data": {
            "text/plain": [
              "numpy.ndarray"
            ]
          },
          "execution_count": 54,
          "metadata": {},
          "output_type": "execute_result"
        }
      ],
      "source": [
        "type(image_array)"
      ]
    },
    {
      "cell_type": "code",
      "execution_count": null,
      "metadata": {
        "colab": {
          "base_uri": "https://localhost:8080/"
        },
        "id": "tUWUId5gWUsI",
        "outputId": "a10b3730-4016-47c8-8d06-118752d1d603"
      },
      "outputs": [
        {
          "data": {
            "text/plain": [
              "(470, 700, 3)"
            ]
          },
          "execution_count": 55,
          "metadata": {},
          "output_type": "execute_result"
        }
      ],
      "source": [
        "image_array.shape"
      ]
    },
    {
      "cell_type": "code",
      "execution_count": null,
      "metadata": {
        "colab": {
          "base_uri": "https://localhost:8080/"
        },
        "id": "diUi_8EjXN3M",
        "outputId": "1846a25d-b5d7-4f2c-c630-93540a5868f1"
      },
      "outputs": [
        {
          "data": {
            "text/plain": [
              "0    /content/drive/MyDrive/w281_final_project/Data...\n",
              "1    /content/drive/MyDrive/w281_final_project/Data...\n",
              "2    /content/drive/MyDrive/w281_final_project/Data...\n",
              "3    /content/drive/MyDrive/w281_final_project/Data...\n",
              "4    /content/drive/MyDrive/w281_final_project/Data...\n",
              "5    /content/drive/MyDrive/w281_final_project/Data...\n",
              "Name: FULL_PATH, dtype: object"
            ]
          },
          "execution_count": 56,
          "metadata": {},
          "output_type": "execute_result"
        }
      ],
      "source": [
        "df_fA.query(f'MAGNIFICATION == \"{m}\"').reset_index().loc[:5, \"FULL_PATH\"]"
      ]
    },
    {
      "cell_type": "code",
      "execution_count": null,
      "metadata": {
        "id": "vvCWpJU-W6Pp"
      },
      "outputs": [],
      "source": [
        "m = \"40\"\n",
        "filenames = df_fA.query(f'MAGNIFICATION == \"{m}\"').reset_index().loc[:5, \"FULL_PATH\"]\n",
        "labels = np.array(df_fA.loc[:5, \"TUMOR_CLASS\"])"
      ]
    },
    {
      "cell_type": "code",
      "execution_count": null,
      "metadata": {
        "id": "WD9gDXk_GCDC"
      },
      "outputs": [],
      "source": [
        "labels[labels == \"B\"] = 0\n",
        "labels[labels == \"M\"] = 1"
      ]
    },
    {
      "cell_type": "code",
      "execution_count": null,
      "metadata": {
        "colab": {
          "base_uri": "https://localhost:8080/"
        },
        "id": "TODuGVAZXFWg",
        "outputId": "b5c3d54a-5015-4fd2-f277-11873c52b655"
      },
      "outputs": [
        {
          "name": "stdout",
          "output_type": "stream",
          "text": [
            "0    /content/drive/MyDrive/w281_final_project/Data...\n",
            "1    /content/drive/MyDrive/w281_final_project/Data...\n",
            "2    /content/drive/MyDrive/w281_final_project/Data...\n",
            "3    /content/drive/MyDrive/w281_final_project/Data...\n",
            "4    /content/drive/MyDrive/w281_final_project/Data...\n",
            "5    /content/drive/MyDrive/w281_final_project/Data...\n",
            "Name: FULL_PATH, dtype: object\n",
            "[0 0 0 0 0 0]\n"
          ]
        }
      ],
      "source": [
        "print(filenames)\n",
        "print(labels)"
      ]
    },
    {
      "cell_type": "code",
      "execution_count": null,
      "metadata": {
        "colab": {
          "base_uri": "https://localhost:8080/",
          "height": 153,
          "referenced_widgets": [
            "bc1a4e46d96e4e698044581973d877e8",
            "d355cc892d6e495492e0c6c441d1a3ba",
            "fb01339c1475490ea90f615e08a52a4a",
            "494aba9ac91b4c34b4f0b43bb6f3798a",
            "97fa43f397d643c5972eadac53a83540",
            "3d3a843ba485451893fef815486455e7",
            "47a6c3c6053d48f58cc1b434400d66f0",
            "41bdfd9d21fb4c6795a76da56fbf1b09",
            "c1c030eab0f74f0787ef6de826c71712",
            "2fefdb65096443569cd5418a0100d2e5",
            "53b8fc50eec743a2ab0fd8f37e6750d3"
          ]
        },
        "id": "jrNsGqBJWaiX",
        "outputId": "766e65d7-d8dd-4968-cdc4-79be5fb2eee8"
      },
      "outputs": [
        {
          "data": {
            "application/vnd.jupyter.widget-view+json": {
              "model_id": "bc1a4e46d96e4e698044581973d877e8",
              "version_major": 2,
              "version_minor": 0
            },
            "text/plain": [
              "  0%|          | 0/6 [00:00<?, ?it/s]"
            ]
          },
          "metadata": {},
          "output_type": "display_data"
        },
        {
          "name": "stdout",
          "output_type": "stream",
          "text": [
            "(700, 470)\n",
            "(700, 470)\n",
            "(700, 470)\n",
            "(700, 470)\n",
            "(700, 470)\n",
            "(700, 470)\n"
          ]
        }
      ],
      "source": [
        "images = np.empty((len(filenames), img_height, img_width, channels), dtype=np.uint8) # dimensions, height, width, channels, labels\n",
        "for i, filename in tqdm(enumerate(filenames), total = len(filenames)):\n",
        "        img = tf.keras.preprocessing.image.load_img(\n",
        "            filename,\n",
        "            target_size=(img_height, img_width)\n",
        "        )\n",
        "        print(img.size)\n",
        "        images[i] = tf.keras.preprocessing.image.img_to_array(img)"
      ]
    },
    {
      "cell_type": "code",
      "execution_count": null,
      "metadata": {
        "colab": {
          "base_uri": "https://localhost:8080/"
        },
        "id": "xylDiB2ObI2S",
        "outputId": "12e6565a-0caa-4426-dc0a-866969dcf16a"
      },
      "outputs": [
        {
          "data": {
            "text/plain": [
              "(6, 470, 700, 3)"
            ]
          },
          "execution_count": 16,
          "metadata": {},
          "output_type": "execute_result"
        }
      ],
      "source": [
        "images.shape"
      ]
    },
    {
      "cell_type": "code",
      "execution_count": null,
      "metadata": {
        "id": "ALgzNCAHbOqW"
      },
      "outputs": [],
      "source": [
        "dataset = tf.data.Dataset.from_tensor_slices((images,labels))"
      ]
    },
    {
      "cell_type": "code",
      "execution_count": null,
      "metadata": {
        "colab": {
          "base_uri": "https://localhost:8080/"
        },
        "id": "sCaZlAgiDL5L",
        "outputId": "a46b81a2-8814-42e4-c9f4-917362b066dd"
      },
      "outputs": [
        {
          "data": {
            "text/plain": [
              "<TensorSliceDataset element_spec=(TensorSpec(shape=(470, 700, 3), dtype=tf.uint8, name=None), TensorSpec(shape=(), dtype=tf.string, name=None))>"
            ]
          },
          "execution_count": 21,
          "metadata": {},
          "output_type": "execute_result"
        }
      ],
      "source": [
        "dataset"
      ]
    },
    {
      "cell_type": "code",
      "execution_count": null,
      "metadata": {
        "id": "O0Sar_9WbPq1"
      },
      "outputs": [],
      "source": [
        "for i in dataset:\n",
        "  print(i)"
      ]
    },
    {
      "cell_type": "markdown",
      "metadata": {
        "id": "5HJHrQOixOmo"
      },
      "source": [
        "# Label encoding\n",
        "0 - Benign  \n",
        "1 - Malignant\n",
        "\n",
        "one-hot encoding for subcategories\n"
      ]
    },
    {
      "cell_type": "code",
      "execution_count": null,
      "metadata": {
        "colab": {
          "base_uri": "https://localhost:8080/",
          "height": 49,
          "referenced_widgets": [
            "1408b327f57846c0a5d6ffa767cb6c90",
            "0cfec7cc938147fab70583a45945d2e1",
            "dcc31fed343f40cb971266fb55caec09",
            "c7072d5103874dac9cc90d1cad9b915a",
            "58aae0af0f0743deae620914ff03602a",
            "082d8a9b5e5f4c3eb3180a0c1ca04280",
            "68ccd57fdb144e76b5328bf3f6871937",
            "9adafc9cf71343628c6d95fc49666792",
            "7cb3a5b5c34c43efb44adcce77ccbe99",
            "ef398dd46d764f03a491183e91e88e29",
            "5471baab3a054e4b8f5628ff3095dea3"
          ]
        },
        "id": "k3bB_Ui4s2dY",
        "outputId": "4fe43381-f2da-4ef4-a674-cb12b359c620"
      },
      "outputs": [
        {
          "data": {
            "application/vnd.jupyter.widget-view+json": {
              "model_id": "1408b327f57846c0a5d6ffa767cb6c90",
              "version_major": 2,
              "version_minor": 0
            },
            "text/plain": [
              "  0%|          | 0/1820 [00:00<?, ?it/s]"
            ]
          },
          "metadata": {},
          "output_type": "display_data"
        }
      ],
      "source": [
        "# Define the data directory and image dimensions\n",
        "img_height, img_width = 470, 700\n",
        "\n",
        "for m in df_fA['MAGNIFICATION'].unique(): \n",
        "  # Load the image filenames and labels\n",
        "  filenames = df_fA.query(f'MAGNIFICATION == \"{m}\"').loc[:, \"FULL_PATH\"]\n",
        "  labels = df_fA.query(f'MAGNIFICATION == \"{m}\"').loc[:, \"TUMOR_CLASS\"].copy()\n",
        "\n",
        "  # convert to binary labels\n",
        "  labels[labels == \"B\"] = 0\n",
        "  labels[labels == \"M\"] = 1\n",
        "  labels = labels.astype(np.float32) # tensor only takes floats(?)\n",
        "\n",
        "  # Create a TensorFlow session and configure it to use the GPU\n",
        "  config = tf.compat.v1.ConfigProto()\n",
        "  config.gpu_options.allow_growth = True\n",
        "  session = tf.compat.v1.Session(config=config)\n",
        "\n",
        "  # Load the image arrays into a numpy array\n",
        "  images = np.empty((len(filenames), img_height, img_width, 3), dtype=np.uint8)\n",
        "  with session.as_default(): # having this inside the for loop dramatically increased the speed. Helps to reconnect again. Slowed down eventually though\n",
        "    for i, filename in tqdm(enumerate(filenames), total = len(filenames)):\n",
        "        img = tf.keras.preprocessing.image.load_img(\n",
        "            filename,\n",
        "            target_size=(img_height, img_width)\n",
        "        )\n",
        "        images[i] = tf.keras.preprocessing.image.img_to_array(img)\n",
        "\n",
        "  # Test the session by running a TensorFlow command that uses the GPU\n",
        "  with session.as_default():\n",
        "    ## Saving images as dataset incase we want to repeat the train test split\n",
        "    dataset = tf.data.Dataset.from_tensor_slices((images, labels))\n",
        "\n",
        "    # Create a directory if it does not exist\n",
        "    tf.io.gfile.makedirs(f\"/content/drive/MyDrive/w281_final_project/Data/tf_data/images_{m}X\")\n",
        "\n",
        "    # Save the dataset to disk\n",
        "    tf.data.Dataset.save(dataset, f\"/content/drive/MyDrive/w281_final_project/Data/tf_data/images_{m}X\")\n",
        "  \n",
        "\n",
        "\n"
      ]
    },
    {
      "cell_type": "markdown",
      "metadata": {
        "id": "mo8vpeJZ2a19"
      },
      "source": [
        "# Method 2 for creating dataset. \n",
        "The first method did not include the labels for the images which concerns me. \n",
        "https://www.tensorflow.org/api_docs/python/tf/keras/utils/image_dataset_from_directory?authuser=1\n",
        "\n",
        "This dataset will be for classifying images as either benign or malignant to be used for binary crossentropy during training. This will serve as a good starting point for model building. In the next step I will create the sub classes"
      ]
    },
    {
      "cell_type": "code",
      "execution_count": null,
      "metadata": {
        "id": "DycD1H3-38W8"
      },
      "outputs": [],
      "source": [
        "dataDir = \"/content/drive/MyDrive/w281_final_project/Data/BreaKHis_v1/BreaKHis_v1/histology_slides/breast\""
      ]
    },
    {
      "cell_type": "markdown",
      "metadata": {
        "id": "rQrr3GLO8xKg"
      },
      "source": [
        "Problem is that the subclasses at different magnifications is not captured this way which could make training the model difficult. Might have to rearrange the folderstructure to accomplish this view since magnifications are split at the very end of the folder tree"
      ]
    },
    {
      "cell_type": "code",
      "execution_count": null,
      "metadata": {
        "colab": {
          "base_uri": "https://localhost:8080/"
        },
        "id": "fl-kX2e_4AOl",
        "outputId": "caee93c9-8765-4a70-d79d-721880c7405f"
      },
      "outputs": [
        {
          "name": "stdout",
          "output_type": "stream",
          "text": [
            "Found 7909 files belonging to 2 classes.\n"
          ]
        }
      ],
      "source": [
        "# Creates tf dataset for all images 7909 with benign and malignant labels\n",
        "dataset = tf.keras.utils.image_dataset_from_directory(\n",
        "    dataDir,\n",
        "    labels='inferred',\n",
        "    label_mode='int',\n",
        "    class_names=None,\n",
        "    color_mode='rgb',\n",
        "    batch_size=32,\n",
        "    image_size=(460, 700),\n",
        "    shuffle=True,\n",
        "    seed=26,\n",
        "    validation_split=None,\n",
        "    subset=None,\n",
        "    interpolation='bilinear',\n",
        "    follow_links=False,\n",
        "    crop_to_aspect_ratio=False\n",
        ")"
      ]
    },
    {
      "cell_type": "code",
      "execution_count": null,
      "metadata": {
        "colab": {
          "base_uri": "https://localhost:8080/"
        },
        "id": "0V52Xdqw5ano",
        "outputId": "9111134f-94ec-47f8-f38c-d579fa7e8af4"
      },
      "outputs": [
        {
          "data": {
            "text/plain": [
              "<BatchDataset element_spec=(TensorSpec(shape=(None, 460, 700, 3), dtype=tf.float32, name=None), TensorSpec(shape=(None,), dtype=tf.int32, name=None))>"
            ]
          },
          "execution_count": 71,
          "metadata": {},
          "output_type": "execute_result"
        }
      ],
      "source": [
        "dataset"
      ]
    },
    {
      "cell_type": "code",
      "execution_count": null,
      "metadata": {
        "colab": {
          "base_uri": "https://localhost:8080/"
        },
        "id": "tJtWLi_P5lyU",
        "outputId": "99bcd7b8-1018-4273-cbff-cf99efb9feb7"
      },
      "outputs": [
        {
          "data": {
            "text/plain": [
              "['benign', 'malignant']"
            ]
          },
          "execution_count": 77,
          "metadata": {},
          "output_type": "execute_result"
        }
      ],
      "source": [
        "# check class names in dataset\n",
        "dataset.class_names"
      ]
    },
    {
      "cell_type": "code",
      "execution_count": null,
      "metadata": {
        "id": "1yFrambY6kcG"
      },
      "outputs": [],
      "source": [
        "# save dataset for use later in model building. Takes a long time. \n",
        "dataset.save(\"/content/drive/MyDrive/w281_final_project/Data/tf_data/full_image_set\")"
      ]
    },
    {
      "cell_type": "markdown",
      "metadata": {
        "id": "46IirSs88Nit"
      },
      "source": [
        "# Create dataset for subclasses\n"
      ]
    },
    {
      "cell_type": "code",
      "execution_count": null,
      "metadata": {
        "id": "rI0YtawK8Pfe"
      },
      "outputs": [],
      "source": []
    },
    {
      "cell_type": "markdown",
      "metadata": {
        "id": "cVLWIWiEvSKZ"
      },
      "source": [
        "# Method 3\n",
        "Give images are organized in subfolders"
      ]
    },
    {
      "cell_type": "code",
      "execution_count": 8,
      "metadata": {
        "id": "L-3CVoBGvT0J"
      },
      "outputs": [],
      "source": [
        "img_width = 700\n",
        "img_height = 470\n",
        "batch_size = 32\n",
        "\n",
        "dataDir = \"/content/drive/MyDrive/w281_final_project/Data/BreaKHis_v1/BreaKHis_v1/histology_slides/breast\""
      ]
    },
    {
      "cell_type": "code",
      "execution_count": 10,
      "metadata": {
        "id": "uDQWNtthvmT4"
      },
      "outputs": [],
      "source": [
        "# imagedata generator and flow from directory\n",
        "from tensorflow.keras.preprocessing.image import ImageDataGenerator"
      ]
    },
    {
      "cell_type": "code",
      "execution_count": 11,
      "metadata": {
        "id": "5DnNka2ewMlS"
      },
      "outputs": [],
      "source": [
        "datagen = ImageDataGenerator(\n",
        "    rescale = 1./255, # normalize the data\n",
        "    horizontal_flip = False,\n",
        "    vertical_flip = False,\n",
        "    data_format = \"channels_last\",\n",
        "    validation_split = 0.1,\n",
        "    dtype = tf.float32\n",
        ")"
      ]
    },
    {
      "cell_type": "code",
      "execution_count": 12,
      "metadata": {
        "colab": {
          "base_uri": "https://localhost:8080/"
        },
        "id": "_0YfRlw4w4Ct",
        "outputId": "8003a169-5b54-4480-c554-4b0080980a7c"
      },
      "outputs": [
        {
          "name": "stdout",
          "output_type": "stream",
          "text": [
            "Found 7119 images belonging to 2 classes.\n"
          ]
        }
      ],
      "source": [
        "train_generator = datagen.flow_from_directory(\n",
        "    directory = dataDir, \n",
        "    target_size=(img_height, img_width),\n",
        "    batch_size = batch_size,\n",
        "    color_mode = 'grayscale',\n",
        "    class_mode='sparse', # because want to be integer represented\n",
        "    shuffle = True,\n",
        "    subset='training',\n",
        "    seed = 26\n",
        ")"
      ]
    },
    {
      "cell_type": "code",
      "execution_count": null,
      "metadata": {
        "id": "yRYoRY93yJ_q"
      },
      "outputs": [],
      "source": [
        "train_generator"
      ]
    },
    {
      "cell_type": "code",
      "execution_count": null,
      "metadata": {
        "id": "k3gheeZUxr8v"
      },
      "outputs": [],
      "source": [
        "def training(): pass\n",
        "\n",
        "for epoch in range(10): \n",
        "  num_batches = 0\n",
        "  for x, y in ds_train: \n",
        "    num_batches += 1\n",
        "\n",
        "    # do training\n",
        "    training()\n",
        "\n",
        "    if num_batches == 25: #len(train_dataset)/batch_size"
      ]
    },
    {
      "cell_type": "markdown",
      "metadata": {
        "id": "SESfX78fyar7"
      },
      "source": [
        "# Method 4\n",
        "File name contains label"
      ]
    },
    {
      "cell_type": "code",
      "execution_count": 37,
      "metadata": {
        "colab": {
          "base_uri": "https://localhost:8080/",
          "height": 483
        },
        "id": "_GTwBl4YydDn",
        "outputId": "b1a408e2-1598-4481-8615-da1f29fac93c"
      },
      "outputs": [
        {
          "name": "stdout",
          "output_type": "stream",
          "text": [
            "<class 'pandas.core.frame.DataFrame'>\n",
            "RangeIndex: 7909 entries, 0 to 7908\n",
            "Data columns (total 9 columns):\n",
            " #   Column            Non-Null Count  Dtype \n",
            "---  ------            --------------  ----- \n",
            " 0   BIOPSY_PROCEDURE  7909 non-null   object\n",
            " 1   TUMOR_CLASS       7909 non-null   object\n",
            " 2   TUMOR_TYPE        7909 non-null   object\n",
            " 3   YEAR              7909 non-null   object\n",
            " 4   SLIDE_ID          7909 non-null   object\n",
            " 5   MAGNIFICATION     7909 non-null   object\n",
            " 6   SEQ               7909 non-null   object\n",
            " 7   FULL_PATH         7909 non-null   object\n",
            " 8   BASE_NAME         7909 non-null   object\n",
            "dtypes: object(9)\n",
            "memory usage: 556.2+ KB\n"
          ]
        },
        {
          "data": {
            "text/html": [
              "\n",
              "  <div id=\"df-77dddbe1-669a-4006-99dc-67d707083442\">\n",
              "    <div class=\"colab-df-container\">\n",
              "      <div>\n",
              "<style scoped>\n",
              "    .dataframe tbody tr th:only-of-type {\n",
              "        vertical-align: middle;\n",
              "    }\n",
              "\n",
              "    .dataframe tbody tr th {\n",
              "        vertical-align: top;\n",
              "    }\n",
              "\n",
              "    .dataframe thead th {\n",
              "        text-align: right;\n",
              "    }\n",
              "</style>\n",
              "<table border=\"1\" class=\"dataframe\">\n",
              "  <thead>\n",
              "    <tr style=\"text-align: right;\">\n",
              "      <th></th>\n",
              "      <th>BIOPSY_PROCEDURE</th>\n",
              "      <th>TUMOR_CLASS</th>\n",
              "      <th>TUMOR_TYPE</th>\n",
              "      <th>YEAR</th>\n",
              "      <th>SLIDE_ID</th>\n",
              "      <th>MAGNIFICATION</th>\n",
              "      <th>SEQ</th>\n",
              "      <th>FULL_PATH</th>\n",
              "      <th>BASE_NAME</th>\n",
              "    </tr>\n",
              "  </thead>\n",
              "  <tbody>\n",
              "    <tr>\n",
              "      <th>0</th>\n",
              "      <td>SOB</td>\n",
              "      <td>B</td>\n",
              "      <td>A</td>\n",
              "      <td>14</td>\n",
              "      <td>22549AB</td>\n",
              "      <td>100</td>\n",
              "      <td>004</td>\n",
              "      <td>/content/drive/MyDrive/w281_final_project/Data...</td>\n",
              "      <td>SOB_B_A-14-22549AB-100-004.png</td>\n",
              "    </tr>\n",
              "    <tr>\n",
              "      <th>1</th>\n",
              "      <td>SOB</td>\n",
              "      <td>B</td>\n",
              "      <td>A</td>\n",
              "      <td>14</td>\n",
              "      <td>22549AB</td>\n",
              "      <td>100</td>\n",
              "      <td>002</td>\n",
              "      <td>/content/drive/MyDrive/w281_final_project/Data...</td>\n",
              "      <td>SOB_B_A-14-22549AB-100-002.png</td>\n",
              "    </tr>\n",
              "    <tr>\n",
              "      <th>2</th>\n",
              "      <td>SOB</td>\n",
              "      <td>B</td>\n",
              "      <td>A</td>\n",
              "      <td>14</td>\n",
              "      <td>22549AB</td>\n",
              "      <td>100</td>\n",
              "      <td>003</td>\n",
              "      <td>/content/drive/MyDrive/w281_final_project/Data...</td>\n",
              "      <td>SOB_B_A-14-22549AB-100-003.png</td>\n",
              "    </tr>\n",
              "    <tr>\n",
              "      <th>3</th>\n",
              "      <td>SOB</td>\n",
              "      <td>B</td>\n",
              "      <td>A</td>\n",
              "      <td>14</td>\n",
              "      <td>22549AB</td>\n",
              "      <td>100</td>\n",
              "      <td>001</td>\n",
              "      <td>/content/drive/MyDrive/w281_final_project/Data...</td>\n",
              "      <td>SOB_B_A-14-22549AB-100-001.png</td>\n",
              "    </tr>\n",
              "    <tr>\n",
              "      <th>4</th>\n",
              "      <td>SOB</td>\n",
              "      <td>B</td>\n",
              "      <td>A</td>\n",
              "      <td>14</td>\n",
              "      <td>22549AB</td>\n",
              "      <td>100</td>\n",
              "      <td>007</td>\n",
              "      <td>/content/drive/MyDrive/w281_final_project/Data...</td>\n",
              "      <td>SOB_B_A-14-22549AB-100-007.png</td>\n",
              "    </tr>\n",
              "  </tbody>\n",
              "</table>\n",
              "</div>\n",
              "      <button class=\"colab-df-convert\" onclick=\"convertToInteractive('df-77dddbe1-669a-4006-99dc-67d707083442')\"\n",
              "              title=\"Convert this dataframe to an interactive table.\"\n",
              "              style=\"display:none;\">\n",
              "        \n",
              "  <svg xmlns=\"http://www.w3.org/2000/svg\" height=\"24px\"viewBox=\"0 0 24 24\"\n",
              "       width=\"24px\">\n",
              "    <path d=\"M0 0h24v24H0V0z\" fill=\"none\"/>\n",
              "    <path d=\"M18.56 5.44l.94 2.06.94-2.06 2.06-.94-2.06-.94-.94-2.06-.94 2.06-2.06.94zm-11 1L8.5 8.5l.94-2.06 2.06-.94-2.06-.94L8.5 2.5l-.94 2.06-2.06.94zm10 10l.94 2.06.94-2.06 2.06-.94-2.06-.94-.94-2.06-.94 2.06-2.06.94z\"/><path d=\"M17.41 7.96l-1.37-1.37c-.4-.4-.92-.59-1.43-.59-.52 0-1.04.2-1.43.59L10.3 9.45l-7.72 7.72c-.78.78-.78 2.05 0 2.83L4 21.41c.39.39.9.59 1.41.59.51 0 1.02-.2 1.41-.59l7.78-7.78 2.81-2.81c.8-.78.8-2.07 0-2.86zM5.41 20L4 18.59l7.72-7.72 1.47 1.35L5.41 20z\"/>\n",
              "  </svg>\n",
              "      </button>\n",
              "      \n",
              "  <style>\n",
              "    .colab-df-container {\n",
              "      display:flex;\n",
              "      flex-wrap:wrap;\n",
              "      gap: 12px;\n",
              "    }\n",
              "\n",
              "    .colab-df-convert {\n",
              "      background-color: #E8F0FE;\n",
              "      border: none;\n",
              "      border-radius: 50%;\n",
              "      cursor: pointer;\n",
              "      display: none;\n",
              "      fill: #1967D2;\n",
              "      height: 32px;\n",
              "      padding: 0 0 0 0;\n",
              "      width: 32px;\n",
              "    }\n",
              "\n",
              "    .colab-df-convert:hover {\n",
              "      background-color: #E2EBFA;\n",
              "      box-shadow: 0px 1px 2px rgba(60, 64, 67, 0.3), 0px 1px 3px 1px rgba(60, 64, 67, 0.15);\n",
              "      fill: #174EA6;\n",
              "    }\n",
              "\n",
              "    [theme=dark] .colab-df-convert {\n",
              "      background-color: #3B4455;\n",
              "      fill: #D2E3FC;\n",
              "    }\n",
              "\n",
              "    [theme=dark] .colab-df-convert:hover {\n",
              "      background-color: #434B5C;\n",
              "      box-shadow: 0px 1px 3px 1px rgba(0, 0, 0, 0.15);\n",
              "      filter: drop-shadow(0px 1px 2px rgba(0, 0, 0, 0.3));\n",
              "      fill: #FFFFFF;\n",
              "    }\n",
              "  </style>\n",
              "\n",
              "      <script>\n",
              "        const buttonEl =\n",
              "          document.querySelector('#df-77dddbe1-669a-4006-99dc-67d707083442 button.colab-df-convert');\n",
              "        buttonEl.style.display =\n",
              "          google.colab.kernel.accessAllowed ? 'block' : 'none';\n",
              "\n",
              "        async function convertToInteractive(key) {\n",
              "          const element = document.querySelector('#df-77dddbe1-669a-4006-99dc-67d707083442');\n",
              "          const dataTable =\n",
              "            await google.colab.kernel.invokeFunction('convertToInteractive',\n",
              "                                                     [key], {});\n",
              "          if (!dataTable) return;\n",
              "\n",
              "          const docLinkHtml = 'Like what you see? Visit the ' +\n",
              "            '<a target=\"_blank\" href=https://colab.research.google.com/notebooks/data_table.ipynb>data table notebook</a>'\n",
              "            + ' to learn more about interactive tables.';\n",
              "          element.innerHTML = '';\n",
              "          dataTable['output_type'] = 'display_data';\n",
              "          await google.colab.output.renderOutput(dataTable, element);\n",
              "          const docLink = document.createElement('div');\n",
              "          docLink.innerHTML = docLinkHtml;\n",
              "          element.appendChild(docLink);\n",
              "        }\n",
              "      </script>\n",
              "    </div>\n",
              "  </div>\n",
              "  "
            ],
            "text/plain": [
              "  BIOPSY_PROCEDURE TUMOR_CLASS TUMOR_TYPE YEAR SLIDE_ID MAGNIFICATION  SEQ  \\\n",
              "0              SOB           B          A   14  22549AB           100  004   \n",
              "1              SOB           B          A   14  22549AB           100  002   \n",
              "2              SOB           B          A   14  22549AB           100  003   \n",
              "3              SOB           B          A   14  22549AB           100  001   \n",
              "4              SOB           B          A   14  22549AB           100  007   \n",
              "\n",
              "                                           FULL_PATH  \\\n",
              "0  /content/drive/MyDrive/w281_final_project/Data...   \n",
              "1  /content/drive/MyDrive/w281_final_project/Data...   \n",
              "2  /content/drive/MyDrive/w281_final_project/Data...   \n",
              "3  /content/drive/MyDrive/w281_final_project/Data...   \n",
              "4  /content/drive/MyDrive/w281_final_project/Data...   \n",
              "\n",
              "                        BASE_NAME  \n",
              "0  SOB_B_A-14-22549AB-100-004.png  \n",
              "1  SOB_B_A-14-22549AB-100-002.png  \n",
              "2  SOB_B_A-14-22549AB-100-003.png  \n",
              "3  SOB_B_A-14-22549AB-100-001.png  \n",
              "4  SOB_B_A-14-22549AB-100-007.png  "
            ]
          },
          "execution_count": 37,
          "metadata": {},
          "output_type": "execute_result"
        }
      ],
      "source": [
        "dataDir = \"/content/drive/MyDrive/w281_final_project/Data/BreaKHis_v1/BreaKHis_v1/histology_slides/breast\"\n",
        "\n",
        "df = load_pickles(os.path.join(\"/content/drive/MyDrive/w281_final_project/Data/pickles\", \"metaData.pkl\"))\n",
        "\n",
        "# starting with 40x\n",
        "df.query('MAGNIFICATION == \"40\"').reset_index(inplace=True, drop = True)\n",
        "df.info()\n",
        "df.head()"
      ]
    },
    {
      "cell_type": "code",
      "execution_count": 71,
      "metadata": {
        "id": "QjNoZie-zplt"
      },
      "outputs": [],
      "source": [
        "file_paths = df['FULL_PATH'].values\n",
        "labels = df['TUMOR_TYPE'].values"
      ]
    },
    {
      "cell_type": "code",
      "execution_count": 73,
      "metadata": {
        "id": "DCrr0QF84zNG"
      },
      "outputs": [],
      "source": [
        "# convert labels to numeric representation\n",
        "from sklearn.preprocessing import LabelEncoder\n",
        "\n",
        "depth = len(set(labels))\n",
        "labelencoder = LabelEncoder()\n",
        "labels = labelencoder.fit_transform(labels)\n",
        "\n",
        "labels = tf.one_hot(labels, depth = depth)\n"
      ]
    },
    {
      "cell_type": "code",
      "execution_count": 74,
      "metadata": {
        "id": "eiavEC-mzq2H"
      },
      "outputs": [],
      "source": [
        "ds_train = tf.data.Dataset.from_tensor_slices((file_paths, labels)) # mapping like a zip in python\n",
        "\n",
        "def read_image(image_file_path, label): \n",
        "  image = tf.io.read_file(image_file_path) # read in image\n",
        "  image = tf.image.decode_image(image, channels = 3, dtype = tf.float32) # preserving RGB colors with channels = 3. Reads array \n",
        "  return image, label\n",
        "\n",
        "def augment(image, label): \n",
        "  # data augmentation here\n",
        "  return image, label"
      ]
    },
    {
      "cell_type": "code",
      "execution_count": 75,
      "metadata": {
        "id": "1Is1_LFJ0pWi"
      },
      "outputs": [],
      "source": [
        "ds_train = ds_train.map(read_image).map(augment).batch(32)"
      ]
    },
    {
      "cell_type": "code",
      "execution_count": 76,
      "metadata": {
        "colab": {
          "base_uri": "https://localhost:8080/",
          "height": 363
        },
        "id": "glQAhBPv2MJf",
        "outputId": "22bf33db-dec3-428c-d4b5-c7499c9c8735"
      },
      "outputs": [
        {
          "ename": "KeyboardInterrupt",
          "evalue": "ignored",
          "output_type": "error",
          "traceback": [
            "\u001b[0;31m---------------------------------------------------------------------------\u001b[0m",
            "\u001b[0;31mKeyboardInterrupt\u001b[0m                         Traceback (most recent call last)",
            "\u001b[0;32m<ipython-input-76-5d8891d3a740>\u001b[0m in \u001b[0;36m<cell line: 1>\u001b[0;34m()\u001b[0m\n\u001b[1;32m      1\u001b[0m \u001b[0;32mfor\u001b[0m \u001b[0mepoch\u001b[0m \u001b[0;32min\u001b[0m \u001b[0mrange\u001b[0m\u001b[0;34m(\u001b[0m\u001b[0;36m10\u001b[0m\u001b[0;34m)\u001b[0m\u001b[0;34m:\u001b[0m\u001b[0;34m\u001b[0m\u001b[0;34m\u001b[0m\u001b[0m\n\u001b[0;32m----> 2\u001b[0;31m   \u001b[0;32mfor\u001b[0m \u001b[0mx\u001b[0m\u001b[0;34m,\u001b[0m \u001b[0my\u001b[0m \u001b[0;32min\u001b[0m \u001b[0mds_train\u001b[0m\u001b[0;34m:\u001b[0m\u001b[0;34m\u001b[0m\u001b[0;34m\u001b[0m\u001b[0m\n\u001b[0m\u001b[1;32m      3\u001b[0m     \u001b[0;31m# train here\u001b[0m\u001b[0;34m\u001b[0m\u001b[0;34m\u001b[0m\u001b[0m\n\u001b[1;32m      4\u001b[0m     \u001b[0;32mpass\u001b[0m\u001b[0;34m\u001b[0m\u001b[0;34m\u001b[0m\u001b[0m\n",
            "\u001b[0;32m/usr/local/lib/python3.9/dist-packages/tensorflow/python/data/ops/iterator_ops.py\u001b[0m in \u001b[0;36m__next__\u001b[0;34m(self)\u001b[0m\n\u001b[1;32m    795\u001b[0m   \u001b[0;32mdef\u001b[0m \u001b[0m__next__\u001b[0m\u001b[0;34m(\u001b[0m\u001b[0mself\u001b[0m\u001b[0;34m)\u001b[0m\u001b[0;34m:\u001b[0m\u001b[0;34m\u001b[0m\u001b[0;34m\u001b[0m\u001b[0m\n\u001b[1;32m    796\u001b[0m     \u001b[0;32mtry\u001b[0m\u001b[0;34m:\u001b[0m\u001b[0;34m\u001b[0m\u001b[0;34m\u001b[0m\u001b[0m\n\u001b[0;32m--> 797\u001b[0;31m       \u001b[0;32mreturn\u001b[0m \u001b[0mself\u001b[0m\u001b[0;34m.\u001b[0m\u001b[0m_next_internal\u001b[0m\u001b[0;34m(\u001b[0m\u001b[0;34m)\u001b[0m\u001b[0;34m\u001b[0m\u001b[0;34m\u001b[0m\u001b[0m\n\u001b[0m\u001b[1;32m    798\u001b[0m     \u001b[0;32mexcept\u001b[0m \u001b[0merrors\u001b[0m\u001b[0;34m.\u001b[0m\u001b[0mOutOfRangeError\u001b[0m\u001b[0;34m:\u001b[0m\u001b[0;34m\u001b[0m\u001b[0;34m\u001b[0m\u001b[0m\n\u001b[1;32m    799\u001b[0m       \u001b[0;32mraise\u001b[0m \u001b[0mStopIteration\u001b[0m\u001b[0;34m\u001b[0m\u001b[0;34m\u001b[0m\u001b[0m\n",
            "\u001b[0;32m/usr/local/lib/python3.9/dist-packages/tensorflow/python/data/ops/iterator_ops.py\u001b[0m in \u001b[0;36m_next_internal\u001b[0;34m(self)\u001b[0m\n\u001b[1;32m    778\u001b[0m     \u001b[0;31m# to communicate that there is no more data to iterate over.\u001b[0m\u001b[0;34m\u001b[0m\u001b[0;34m\u001b[0m\u001b[0m\n\u001b[1;32m    779\u001b[0m     \u001b[0;32mwith\u001b[0m \u001b[0mcontext\u001b[0m\u001b[0;34m.\u001b[0m\u001b[0mexecution_mode\u001b[0m\u001b[0;34m(\u001b[0m\u001b[0mcontext\u001b[0m\u001b[0;34m.\u001b[0m\u001b[0mSYNC\u001b[0m\u001b[0;34m)\u001b[0m\u001b[0;34m:\u001b[0m\u001b[0;34m\u001b[0m\u001b[0;34m\u001b[0m\u001b[0m\n\u001b[0;32m--> 780\u001b[0;31m       ret = gen_dataset_ops.iterator_get_next(\n\u001b[0m\u001b[1;32m    781\u001b[0m           \u001b[0mself\u001b[0m\u001b[0;34m.\u001b[0m\u001b[0m_iterator_resource\u001b[0m\u001b[0;34m,\u001b[0m\u001b[0;34m\u001b[0m\u001b[0;34m\u001b[0m\u001b[0m\n\u001b[1;32m    782\u001b[0m           \u001b[0moutput_types\u001b[0m\u001b[0;34m=\u001b[0m\u001b[0mself\u001b[0m\u001b[0;34m.\u001b[0m\u001b[0m_flat_output_types\u001b[0m\u001b[0;34m,\u001b[0m\u001b[0;34m\u001b[0m\u001b[0;34m\u001b[0m\u001b[0m\n",
            "\u001b[0;32m/usr/local/lib/python3.9/dist-packages/tensorflow/python/ops/gen_dataset_ops.py\u001b[0m in \u001b[0;36miterator_get_next\u001b[0;34m(iterator, output_types, output_shapes, name)\u001b[0m\n\u001b[1;32m   3009\u001b[0m   \u001b[0;32mif\u001b[0m \u001b[0mtld\u001b[0m\u001b[0;34m.\u001b[0m\u001b[0mis_eager\u001b[0m\u001b[0;34m:\u001b[0m\u001b[0;34m\u001b[0m\u001b[0;34m\u001b[0m\u001b[0m\n\u001b[1;32m   3010\u001b[0m     \u001b[0;32mtry\u001b[0m\u001b[0;34m:\u001b[0m\u001b[0;34m\u001b[0m\u001b[0;34m\u001b[0m\u001b[0m\n\u001b[0;32m-> 3011\u001b[0;31m       _result = pywrap_tfe.TFE_Py_FastPathExecute(\n\u001b[0m\u001b[1;32m   3012\u001b[0m         \u001b[0m_ctx\u001b[0m\u001b[0;34m,\u001b[0m \u001b[0;34m\"IteratorGetNext\"\u001b[0m\u001b[0;34m,\u001b[0m \u001b[0mname\u001b[0m\u001b[0;34m,\u001b[0m \u001b[0miterator\u001b[0m\u001b[0;34m,\u001b[0m \u001b[0;34m\"output_types\"\u001b[0m\u001b[0;34m,\u001b[0m \u001b[0moutput_types\u001b[0m\u001b[0;34m,\u001b[0m\u001b[0;34m\u001b[0m\u001b[0;34m\u001b[0m\u001b[0m\n\u001b[1;32m   3013\u001b[0m         \"output_shapes\", output_shapes)\n",
            "\u001b[0;31mKeyboardInterrupt\u001b[0m: "
          ]
        }
      ],
      "source": [
        "for epoch in range(10): \n",
        "  for x, y in ds_train: \n",
        "    # train here\n",
        "    pass"
      ]
    },
    {
      "cell_type": "code",
      "execution_count": 77,
      "metadata": {
        "id": "veDGzvEU2tif"
      },
      "outputs": [],
      "source": [
        "from tensorflow import keras\n",
        "from tensorflow.keras import layers"
      ]
    },
    {
      "cell_type": "code",
      "execution_count": 78,
      "metadata": {
        "id": "tjg9ftFq2Vvk"
      },
      "outputs": [],
      "source": [
        "model = keras.Sequential([\n",
        "    layers.Input((28,28,1)),\n",
        "    layers.Conv2D(16,3, padding = 'same'),\n",
        "    layers.Conv2D(32,3,padding = 'same'),\n",
        "    layers.MaxPooling2D(),\n",
        "    layers.Flatten(),\n",
        "    layers.Dense(8)\n",
        "])"
      ]
    },
    {
      "cell_type": "code",
      "execution_count": 79,
      "metadata": {
        "id": "L_ya7L9H2ldU"
      },
      "outputs": [],
      "source": [
        "model.compile(\n",
        "    optimizer=keras.optimizers.Adam(),\n",
        "    loss = [\n",
        "        keras.losses.CategoricalCrossentropy(from_logits = True),\n",
        "    ],\n",
        "    metrics=['accuracy'],\n",
        ")"
      ]
    },
    {
      "cell_type": "code",
      "execution_count": null,
      "metadata": {
        "id": "I8SpHxZd3N52"
      },
      "outputs": [],
      "source": [
        "model.fit(ds_train,\n",
        "          epochs=10,\n",
        "          verbose=2)"
      ]
    },
    {
      "cell_type": "code",
      "execution_count": null,
      "metadata": {
        "id": "FlhvpiVy3RKR"
      },
      "outputs": [],
      "source": []
    }
  ],
  "metadata": {
    "colab": {
      "collapsed_sections": [
        "WhkTwaKefVQc",
        "NRHc61DXpGvE",
        "Nhquz0LmpQ60"
      ],
      "provenance": []
    },
    "gpuClass": "standard",
    "kernelspec": {
      "display_name": "Python 3",
      "name": "python3"
    },
    "language_info": {
      "name": "python"
    },
    "widgets": {
      "application/vnd.jupyter.widget-state+json": {
        "082d8a9b5e5f4c3eb3180a0c1ca04280": {
          "model_module": "@jupyter-widgets/base",
          "model_module_version": "1.2.0",
          "model_name": "LayoutModel",
          "state": {
            "_model_module": "@jupyter-widgets/base",
            "_model_module_version": "1.2.0",
            "_model_name": "LayoutModel",
            "_view_count": null,
            "_view_module": "@jupyter-widgets/base",
            "_view_module_version": "1.2.0",
            "_view_name": "LayoutView",
            "align_content": null,
            "align_items": null,
            "align_self": null,
            "border": null,
            "bottom": null,
            "display": null,
            "flex": null,
            "flex_flow": null,
            "grid_area": null,
            "grid_auto_columns": null,
            "grid_auto_flow": null,
            "grid_auto_rows": null,
            "grid_column": null,
            "grid_gap": null,
            "grid_row": null,
            "grid_template_areas": null,
            "grid_template_columns": null,
            "grid_template_rows": null,
            "height": null,
            "justify_content": null,
            "justify_items": null,
            "left": null,
            "margin": null,
            "max_height": null,
            "max_width": null,
            "min_height": null,
            "min_width": null,
            "object_fit": null,
            "object_position": null,
            "order": null,
            "overflow": null,
            "overflow_x": null,
            "overflow_y": null,
            "padding": null,
            "right": null,
            "top": null,
            "visibility": null,
            "width": null
          }
        },
        "0cfec7cc938147fab70583a45945d2e1": {
          "model_module": "@jupyter-widgets/controls",
          "model_module_version": "1.5.0",
          "model_name": "HTMLModel",
          "state": {
            "_dom_classes": [],
            "_model_module": "@jupyter-widgets/controls",
            "_model_module_version": "1.5.0",
            "_model_name": "HTMLModel",
            "_view_count": null,
            "_view_module": "@jupyter-widgets/controls",
            "_view_module_version": "1.5.0",
            "_view_name": "HTMLView",
            "description": "",
            "description_tooltip": null,
            "layout": "IPY_MODEL_082d8a9b5e5f4c3eb3180a0c1ca04280",
            "placeholder": "​",
            "style": "IPY_MODEL_68ccd57fdb144e76b5328bf3f6871937",
            "value": "100%"
          }
        },
        "1408b327f57846c0a5d6ffa767cb6c90": {
          "model_module": "@jupyter-widgets/controls",
          "model_module_version": "1.5.0",
          "model_name": "HBoxModel",
          "state": {
            "_dom_classes": [],
            "_model_module": "@jupyter-widgets/controls",
            "_model_module_version": "1.5.0",
            "_model_name": "HBoxModel",
            "_view_count": null,
            "_view_module": "@jupyter-widgets/controls",
            "_view_module_version": "1.5.0",
            "_view_name": "HBoxView",
            "box_style": "",
            "children": [
              "IPY_MODEL_0cfec7cc938147fab70583a45945d2e1",
              "IPY_MODEL_dcc31fed343f40cb971266fb55caec09",
              "IPY_MODEL_c7072d5103874dac9cc90d1cad9b915a"
            ],
            "layout": "IPY_MODEL_58aae0af0f0743deae620914ff03602a"
          }
        },
        "2fefdb65096443569cd5418a0100d2e5": {
          "model_module": "@jupyter-widgets/base",
          "model_module_version": "1.2.0",
          "model_name": "LayoutModel",
          "state": {
            "_model_module": "@jupyter-widgets/base",
            "_model_module_version": "1.2.0",
            "_model_name": "LayoutModel",
            "_view_count": null,
            "_view_module": "@jupyter-widgets/base",
            "_view_module_version": "1.2.0",
            "_view_name": "LayoutView",
            "align_content": null,
            "align_items": null,
            "align_self": null,
            "border": null,
            "bottom": null,
            "display": null,
            "flex": null,
            "flex_flow": null,
            "grid_area": null,
            "grid_auto_columns": null,
            "grid_auto_flow": null,
            "grid_auto_rows": null,
            "grid_column": null,
            "grid_gap": null,
            "grid_row": null,
            "grid_template_areas": null,
            "grid_template_columns": null,
            "grid_template_rows": null,
            "height": null,
            "justify_content": null,
            "justify_items": null,
            "left": null,
            "margin": null,
            "max_height": null,
            "max_width": null,
            "min_height": null,
            "min_width": null,
            "object_fit": null,
            "object_position": null,
            "order": null,
            "overflow": null,
            "overflow_x": null,
            "overflow_y": null,
            "padding": null,
            "right": null,
            "top": null,
            "visibility": null,
            "width": null
          }
        },
        "3d3a843ba485451893fef815486455e7": {
          "model_module": "@jupyter-widgets/base",
          "model_module_version": "1.2.0",
          "model_name": "LayoutModel",
          "state": {
            "_model_module": "@jupyter-widgets/base",
            "_model_module_version": "1.2.0",
            "_model_name": "LayoutModel",
            "_view_count": null,
            "_view_module": "@jupyter-widgets/base",
            "_view_module_version": "1.2.0",
            "_view_name": "LayoutView",
            "align_content": null,
            "align_items": null,
            "align_self": null,
            "border": null,
            "bottom": null,
            "display": null,
            "flex": null,
            "flex_flow": null,
            "grid_area": null,
            "grid_auto_columns": null,
            "grid_auto_flow": null,
            "grid_auto_rows": null,
            "grid_column": null,
            "grid_gap": null,
            "grid_row": null,
            "grid_template_areas": null,
            "grid_template_columns": null,
            "grid_template_rows": null,
            "height": null,
            "justify_content": null,
            "justify_items": null,
            "left": null,
            "margin": null,
            "max_height": null,
            "max_width": null,
            "min_height": null,
            "min_width": null,
            "object_fit": null,
            "object_position": null,
            "order": null,
            "overflow": null,
            "overflow_x": null,
            "overflow_y": null,
            "padding": null,
            "right": null,
            "top": null,
            "visibility": null,
            "width": null
          }
        },
        "41bdfd9d21fb4c6795a76da56fbf1b09": {
          "model_module": "@jupyter-widgets/base",
          "model_module_version": "1.2.0",
          "model_name": "LayoutModel",
          "state": {
            "_model_module": "@jupyter-widgets/base",
            "_model_module_version": "1.2.0",
            "_model_name": "LayoutModel",
            "_view_count": null,
            "_view_module": "@jupyter-widgets/base",
            "_view_module_version": "1.2.0",
            "_view_name": "LayoutView",
            "align_content": null,
            "align_items": null,
            "align_self": null,
            "border": null,
            "bottom": null,
            "display": null,
            "flex": null,
            "flex_flow": null,
            "grid_area": null,
            "grid_auto_columns": null,
            "grid_auto_flow": null,
            "grid_auto_rows": null,
            "grid_column": null,
            "grid_gap": null,
            "grid_row": null,
            "grid_template_areas": null,
            "grid_template_columns": null,
            "grid_template_rows": null,
            "height": null,
            "justify_content": null,
            "justify_items": null,
            "left": null,
            "margin": null,
            "max_height": null,
            "max_width": null,
            "min_height": null,
            "min_width": null,
            "object_fit": null,
            "object_position": null,
            "order": null,
            "overflow": null,
            "overflow_x": null,
            "overflow_y": null,
            "padding": null,
            "right": null,
            "top": null,
            "visibility": null,
            "width": null
          }
        },
        "47a6c3c6053d48f58cc1b434400d66f0": {
          "model_module": "@jupyter-widgets/controls",
          "model_module_version": "1.5.0",
          "model_name": "DescriptionStyleModel",
          "state": {
            "_model_module": "@jupyter-widgets/controls",
            "_model_module_version": "1.5.0",
            "_model_name": "DescriptionStyleModel",
            "_view_count": null,
            "_view_module": "@jupyter-widgets/base",
            "_view_module_version": "1.2.0",
            "_view_name": "StyleView",
            "description_width": ""
          }
        },
        "494aba9ac91b4c34b4f0b43bb6f3798a": {
          "model_module": "@jupyter-widgets/controls",
          "model_module_version": "1.5.0",
          "model_name": "HTMLModel",
          "state": {
            "_dom_classes": [],
            "_model_module": "@jupyter-widgets/controls",
            "_model_module_version": "1.5.0",
            "_model_name": "HTMLModel",
            "_view_count": null,
            "_view_module": "@jupyter-widgets/controls",
            "_view_module_version": "1.5.0",
            "_view_name": "HTMLView",
            "description": "",
            "description_tooltip": null,
            "layout": "IPY_MODEL_2fefdb65096443569cd5418a0100d2e5",
            "placeholder": "​",
            "style": "IPY_MODEL_53b8fc50eec743a2ab0fd8f37e6750d3",
            "value": " 6/6 [00:04&lt;00:00,  2.04it/s]"
          }
        },
        "53b8fc50eec743a2ab0fd8f37e6750d3": {
          "model_module": "@jupyter-widgets/controls",
          "model_module_version": "1.5.0",
          "model_name": "DescriptionStyleModel",
          "state": {
            "_model_module": "@jupyter-widgets/controls",
            "_model_module_version": "1.5.0",
            "_model_name": "DescriptionStyleModel",
            "_view_count": null,
            "_view_module": "@jupyter-widgets/base",
            "_view_module_version": "1.2.0",
            "_view_name": "StyleView",
            "description_width": ""
          }
        },
        "5471baab3a054e4b8f5628ff3095dea3": {
          "model_module": "@jupyter-widgets/controls",
          "model_module_version": "1.5.0",
          "model_name": "DescriptionStyleModel",
          "state": {
            "_model_module": "@jupyter-widgets/controls",
            "_model_module_version": "1.5.0",
            "_model_name": "DescriptionStyleModel",
            "_view_count": null,
            "_view_module": "@jupyter-widgets/base",
            "_view_module_version": "1.2.0",
            "_view_name": "StyleView",
            "description_width": ""
          }
        },
        "58aae0af0f0743deae620914ff03602a": {
          "model_module": "@jupyter-widgets/base",
          "model_module_version": "1.2.0",
          "model_name": "LayoutModel",
          "state": {
            "_model_module": "@jupyter-widgets/base",
            "_model_module_version": "1.2.0",
            "_model_name": "LayoutModel",
            "_view_count": null,
            "_view_module": "@jupyter-widgets/base",
            "_view_module_version": "1.2.0",
            "_view_name": "LayoutView",
            "align_content": null,
            "align_items": null,
            "align_self": null,
            "border": null,
            "bottom": null,
            "display": null,
            "flex": null,
            "flex_flow": null,
            "grid_area": null,
            "grid_auto_columns": null,
            "grid_auto_flow": null,
            "grid_auto_rows": null,
            "grid_column": null,
            "grid_gap": null,
            "grid_row": null,
            "grid_template_areas": null,
            "grid_template_columns": null,
            "grid_template_rows": null,
            "height": null,
            "justify_content": null,
            "justify_items": null,
            "left": null,
            "margin": null,
            "max_height": null,
            "max_width": null,
            "min_height": null,
            "min_width": null,
            "object_fit": null,
            "object_position": null,
            "order": null,
            "overflow": null,
            "overflow_x": null,
            "overflow_y": null,
            "padding": null,
            "right": null,
            "top": null,
            "visibility": null,
            "width": null
          }
        },
        "68ccd57fdb144e76b5328bf3f6871937": {
          "model_module": "@jupyter-widgets/controls",
          "model_module_version": "1.5.0",
          "model_name": "DescriptionStyleModel",
          "state": {
            "_model_module": "@jupyter-widgets/controls",
            "_model_module_version": "1.5.0",
            "_model_name": "DescriptionStyleModel",
            "_view_count": null,
            "_view_module": "@jupyter-widgets/base",
            "_view_module_version": "1.2.0",
            "_view_name": "StyleView",
            "description_width": ""
          }
        },
        "7cb3a5b5c34c43efb44adcce77ccbe99": {
          "model_module": "@jupyter-widgets/controls",
          "model_module_version": "1.5.0",
          "model_name": "ProgressStyleModel",
          "state": {
            "_model_module": "@jupyter-widgets/controls",
            "_model_module_version": "1.5.0",
            "_model_name": "ProgressStyleModel",
            "_view_count": null,
            "_view_module": "@jupyter-widgets/base",
            "_view_module_version": "1.2.0",
            "_view_name": "StyleView",
            "bar_color": null,
            "description_width": ""
          }
        },
        "97fa43f397d643c5972eadac53a83540": {
          "model_module": "@jupyter-widgets/base",
          "model_module_version": "1.2.0",
          "model_name": "LayoutModel",
          "state": {
            "_model_module": "@jupyter-widgets/base",
            "_model_module_version": "1.2.0",
            "_model_name": "LayoutModel",
            "_view_count": null,
            "_view_module": "@jupyter-widgets/base",
            "_view_module_version": "1.2.0",
            "_view_name": "LayoutView",
            "align_content": null,
            "align_items": null,
            "align_self": null,
            "border": null,
            "bottom": null,
            "display": null,
            "flex": null,
            "flex_flow": null,
            "grid_area": null,
            "grid_auto_columns": null,
            "grid_auto_flow": null,
            "grid_auto_rows": null,
            "grid_column": null,
            "grid_gap": null,
            "grid_row": null,
            "grid_template_areas": null,
            "grid_template_columns": null,
            "grid_template_rows": null,
            "height": null,
            "justify_content": null,
            "justify_items": null,
            "left": null,
            "margin": null,
            "max_height": null,
            "max_width": null,
            "min_height": null,
            "min_width": null,
            "object_fit": null,
            "object_position": null,
            "order": null,
            "overflow": null,
            "overflow_x": null,
            "overflow_y": null,
            "padding": null,
            "right": null,
            "top": null,
            "visibility": null,
            "width": null
          }
        },
        "9adafc9cf71343628c6d95fc49666792": {
          "model_module": "@jupyter-widgets/base",
          "model_module_version": "1.2.0",
          "model_name": "LayoutModel",
          "state": {
            "_model_module": "@jupyter-widgets/base",
            "_model_module_version": "1.2.0",
            "_model_name": "LayoutModel",
            "_view_count": null,
            "_view_module": "@jupyter-widgets/base",
            "_view_module_version": "1.2.0",
            "_view_name": "LayoutView",
            "align_content": null,
            "align_items": null,
            "align_self": null,
            "border": null,
            "bottom": null,
            "display": null,
            "flex": null,
            "flex_flow": null,
            "grid_area": null,
            "grid_auto_columns": null,
            "grid_auto_flow": null,
            "grid_auto_rows": null,
            "grid_column": null,
            "grid_gap": null,
            "grid_row": null,
            "grid_template_areas": null,
            "grid_template_columns": null,
            "grid_template_rows": null,
            "height": null,
            "justify_content": null,
            "justify_items": null,
            "left": null,
            "margin": null,
            "max_height": null,
            "max_width": null,
            "min_height": null,
            "min_width": null,
            "object_fit": null,
            "object_position": null,
            "order": null,
            "overflow": null,
            "overflow_x": null,
            "overflow_y": null,
            "padding": null,
            "right": null,
            "top": null,
            "visibility": null,
            "width": null
          }
        },
        "bc1a4e46d96e4e698044581973d877e8": {
          "model_module": "@jupyter-widgets/controls",
          "model_module_version": "1.5.0",
          "model_name": "HBoxModel",
          "state": {
            "_dom_classes": [],
            "_model_module": "@jupyter-widgets/controls",
            "_model_module_version": "1.5.0",
            "_model_name": "HBoxModel",
            "_view_count": null,
            "_view_module": "@jupyter-widgets/controls",
            "_view_module_version": "1.5.0",
            "_view_name": "HBoxView",
            "box_style": "",
            "children": [
              "IPY_MODEL_d355cc892d6e495492e0c6c441d1a3ba",
              "IPY_MODEL_fb01339c1475490ea90f615e08a52a4a",
              "IPY_MODEL_494aba9ac91b4c34b4f0b43bb6f3798a"
            ],
            "layout": "IPY_MODEL_97fa43f397d643c5972eadac53a83540"
          }
        },
        "c1c030eab0f74f0787ef6de826c71712": {
          "model_module": "@jupyter-widgets/controls",
          "model_module_version": "1.5.0",
          "model_name": "ProgressStyleModel",
          "state": {
            "_model_module": "@jupyter-widgets/controls",
            "_model_module_version": "1.5.0",
            "_model_name": "ProgressStyleModel",
            "_view_count": null,
            "_view_module": "@jupyter-widgets/base",
            "_view_module_version": "1.2.0",
            "_view_name": "StyleView",
            "bar_color": null,
            "description_width": ""
          }
        },
        "c7072d5103874dac9cc90d1cad9b915a": {
          "model_module": "@jupyter-widgets/controls",
          "model_module_version": "1.5.0",
          "model_name": "HTMLModel",
          "state": {
            "_dom_classes": [],
            "_model_module": "@jupyter-widgets/controls",
            "_model_module_version": "1.5.0",
            "_model_name": "HTMLModel",
            "_view_count": null,
            "_view_module": "@jupyter-widgets/controls",
            "_view_module_version": "1.5.0",
            "_view_name": "HTMLView",
            "description": "",
            "description_tooltip": null,
            "layout": "IPY_MODEL_ef398dd46d764f03a491183e91e88e29",
            "placeholder": "​",
            "style": "IPY_MODEL_5471baab3a054e4b8f5628ff3095dea3",
            "value": " 1820/1820 [16:00&lt;00:00,  1.98it/s]"
          }
        },
        "d355cc892d6e495492e0c6c441d1a3ba": {
          "model_module": "@jupyter-widgets/controls",
          "model_module_version": "1.5.0",
          "model_name": "HTMLModel",
          "state": {
            "_dom_classes": [],
            "_model_module": "@jupyter-widgets/controls",
            "_model_module_version": "1.5.0",
            "_model_name": "HTMLModel",
            "_view_count": null,
            "_view_module": "@jupyter-widgets/controls",
            "_view_module_version": "1.5.0",
            "_view_name": "HTMLView",
            "description": "",
            "description_tooltip": null,
            "layout": "IPY_MODEL_3d3a843ba485451893fef815486455e7",
            "placeholder": "​",
            "style": "IPY_MODEL_47a6c3c6053d48f58cc1b434400d66f0",
            "value": "100%"
          }
        },
        "dcc31fed343f40cb971266fb55caec09": {
          "model_module": "@jupyter-widgets/controls",
          "model_module_version": "1.5.0",
          "model_name": "FloatProgressModel",
          "state": {
            "_dom_classes": [],
            "_model_module": "@jupyter-widgets/controls",
            "_model_module_version": "1.5.0",
            "_model_name": "FloatProgressModel",
            "_view_count": null,
            "_view_module": "@jupyter-widgets/controls",
            "_view_module_version": "1.5.0",
            "_view_name": "ProgressView",
            "bar_style": "success",
            "description": "",
            "description_tooltip": null,
            "layout": "IPY_MODEL_9adafc9cf71343628c6d95fc49666792",
            "max": 1820,
            "min": 0,
            "orientation": "horizontal",
            "style": "IPY_MODEL_7cb3a5b5c34c43efb44adcce77ccbe99",
            "value": 1820
          }
        },
        "ef398dd46d764f03a491183e91e88e29": {
          "model_module": "@jupyter-widgets/base",
          "model_module_version": "1.2.0",
          "model_name": "LayoutModel",
          "state": {
            "_model_module": "@jupyter-widgets/base",
            "_model_module_version": "1.2.0",
            "_model_name": "LayoutModel",
            "_view_count": null,
            "_view_module": "@jupyter-widgets/base",
            "_view_module_version": "1.2.0",
            "_view_name": "LayoutView",
            "align_content": null,
            "align_items": null,
            "align_self": null,
            "border": null,
            "bottom": null,
            "display": null,
            "flex": null,
            "flex_flow": null,
            "grid_area": null,
            "grid_auto_columns": null,
            "grid_auto_flow": null,
            "grid_auto_rows": null,
            "grid_column": null,
            "grid_gap": null,
            "grid_row": null,
            "grid_template_areas": null,
            "grid_template_columns": null,
            "grid_template_rows": null,
            "height": null,
            "justify_content": null,
            "justify_items": null,
            "left": null,
            "margin": null,
            "max_height": null,
            "max_width": null,
            "min_height": null,
            "min_width": null,
            "object_fit": null,
            "object_position": null,
            "order": null,
            "overflow": null,
            "overflow_x": null,
            "overflow_y": null,
            "padding": null,
            "right": null,
            "top": null,
            "visibility": null,
            "width": null
          }
        },
        "fb01339c1475490ea90f615e08a52a4a": {
          "model_module": "@jupyter-widgets/controls",
          "model_module_version": "1.5.0",
          "model_name": "FloatProgressModel",
          "state": {
            "_dom_classes": [],
            "_model_module": "@jupyter-widgets/controls",
            "_model_module_version": "1.5.0",
            "_model_name": "FloatProgressModel",
            "_view_count": null,
            "_view_module": "@jupyter-widgets/controls",
            "_view_module_version": "1.5.0",
            "_view_name": "ProgressView",
            "bar_style": "success",
            "description": "",
            "description_tooltip": null,
            "layout": "IPY_MODEL_41bdfd9d21fb4c6795a76da56fbf1b09",
            "max": 6,
            "min": 0,
            "orientation": "horizontal",
            "style": "IPY_MODEL_c1c030eab0f74f0787ef6de826c71712",
            "value": 6
          }
        }
      }
    }
  },
  "nbformat": 4,
  "nbformat_minor": 0
}
